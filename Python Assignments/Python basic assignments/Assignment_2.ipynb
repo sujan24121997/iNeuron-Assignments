{
 "cells": [
  {
   "cell_type": "raw",
   "metadata": {},
   "source": [
    "1.What are the two values of the Boolean data type? How do you write them?"
   ]
  },
  {
   "cell_type": "markdown",
   "metadata": {},
   "source": [
    "<br>\n",
    "Ans.<br>\n",
    "True and false are the two values of boolean data type. They are written as <b>True</b> and <b>False</b>.<br>"
   ]
  },
  {
   "cell_type": "raw",
   "metadata": {},
   "source": [
    "2. What are the three different types of Boolean operators?"
   ]
  },
  {
   "cell_type": "markdown",
   "metadata": {},
   "source": [
    "<br>\n",
    "Ans.<br>\n",
    "OR,AND,NOT  are the three different types of boolean operators.<br>"
   ]
  },
  {
   "cell_type": "raw",
   "metadata": {},
   "source": [
    "3. Make a list of each Boolean operator's truth tables (i.e. every possible combination of Boolean values for the operator and what it evaluate )."
   ]
  },
  {
   "cell_type": "markdown",
   "metadata": {},
   "source": [
    "<br>\n",
    "Ans.<br>\n",
    "<table align = \"left\">\n",
    "  <caption style=\"text-align:center\">AND Operator</caption>\n",
    "  <tr>\n",
    "    <th>A</th>\n",
    "    <th>B</th>\n",
    "    <th>A AND B</th>\n",
    "  </tr>\n",
    "  <tr>\n",
    "    <td>True</td>\n",
    "    <td>True</td>\n",
    "    <td>True</td>\n",
    "  </tr>\n",
    "  <tr>\n",
    "    <td>True</td>\n",
    "    <td>False</td>\n",
    "    <td>False</td>\n",
    "  </tr>\n",
    "  <tr>\n",
    "    <td>False</td>\n",
    "    <td>True</td>\n",
    "    <td>False</td>\n",
    "  </tr>\n",
    "  <tr>\n",
    "    <td>False</td>\n",
    "    <td>False</td>\n",
    "    <td>False</td>\n",
    "  </tr>\n",
    "</table>\n",
    "<br><br><br><br><br><br><br><br><br>\n",
    "<table align = \"left\">\n",
    "  <caption style=\"text-align:center\">OR Operator</caption>\n",
    "  <tr>\n",
    "    <th>A</th>\n",
    "    <th>B</th>\n",
    "    <th>A OR B</th>\n",
    "  </tr>\n",
    "  <tr>\n",
    "    <td>True</td>\n",
    "    <td>True</td>\n",
    "    <td>True</td>\n",
    "  </tr>\n",
    "  <tr>\n",
    "    <td>True</td>\n",
    "    <td>False</td>\n",
    "    <td>True</td>\n",
    "  </tr>\n",
    "  <tr>\n",
    "    <td>False</td>\n",
    "    <td>True</td>\n",
    "    <td>True</td>\n",
    "  </tr>\n",
    "  <tr>\n",
    "    <td>False</td>\n",
    "    <td>False</td>\n",
    "    <td>False</td>\n",
    "  </tr>\n",
    "</table>\n",
    "<br><br><br><br><br><br><br><br><br>\n",
    "<table align = \"left\">\n",
    "  <caption style=\"text-align:center\">NOT Operator</caption>\n",
    "  <tr>\n",
    "    <th>A</th>\n",
    "    <th>NOT A</th>\n",
    "  </tr>\n",
    "  <tr>\n",
    "    <td>True</td>\n",
    "    <td>False</td>\n",
    "  </tr>\n",
    "  <tr>\n",
    "    <td>False</td>\n",
    "    <td>True</td>\n",
    "  </tr>\n",
    "</table>"
   ]
  },
  {
   "cell_type": "raw",
   "metadata": {},
   "source": [
    "4. What are the values of the following expressions?\n",
    "(5 > 4) and (3 == 5)\n",
    "not (5 > 4)\n",
    "(5 > 4) or (3 == 5)\n",
    "not ((5 > 4) or (3 == 5))\n",
    "(True and True) and (True == False)\n",
    "(not False) or (not True)"
   ]
  },
  {
   "cell_type": "markdown",
   "metadata": {},
   "source": [
    "<br>\n",
    "Ans.<br>\n",
    "(5 > 4) and (3 == 5)                --> False<br>\n",
    "not (5 > 4)                         --> False<br>\n",
    "(5 > 4) or (3 == 5)                 --> True<br>\n",
    "not ((5 > 4) or (3 == 5))           --> False<br>\n",
    "(True and True) and (True == False) --> False<br>\n",
    "(not False) or (not True)           -->True<br>"
   ]
  },
  {
   "cell_type": "raw",
   "metadata": {},
   "source": [
    "5. What are the six comparison operators?"
   ]
  },
  {
   "cell_type": "markdown",
   "metadata": {},
   "source": [
    "<br>\n",
    "Ans.<br>\n",
    " Less than(<), Greater than(>), Less than or equal to(<=), Greater than or equal to(>=), Equal to(==) and Not equal to (!=) are the six comparison operators.<br>"
   ]
  },
  {
   "cell_type": "raw",
   "metadata": {},
   "source": [
    "6. How do you tell the difference between the equal to and assignment operators?Describe a condition and when you would use one."
   ]
  },
  {
   "cell_type": "markdown",
   "metadata": {},
   "source": [
    "<br>\n",
    "Ans.<br>\n",
    "equal to is double equals(==) and assignment operator is single equal(=) below is an example given.<br>"
   ]
  },
  {
   "cell_type": "code",
   "execution_count": 8,
   "metadata": {},
   "outputs": [
    {
     "name": "stdout",
     "output_type": "stream",
     "text": [
      "'a' variable is equal to 10\n"
     ]
    }
   ],
   "source": [
    "#Assign variable 'a' with value 10.\n",
    "a = 10\n",
    "# comparing  variable 'a' if it is equal to 10. \n",
    "if a == 10:\n",
    "    print(\"'a' variable is equal to 10\")"
   ]
  },
  {
   "cell_type": "markdown",
   "metadata": {},
   "source": [
    "<br>\n",
    "In the above example  'a = 10'here it is a assignment operator and 'if a == 10:' here is a equal to. <br>"
   ]
  },
  {
   "cell_type": "raw",
   "metadata": {},
   "source": [
    "7. Identify the three blocks in this code:\n",
    "spam = 0\n",
    "if spam == 10:\n",
    "print('eggs')\n",
    "if spam > 5:\n",
    "print('bacon')\n",
    "else:\n",
    "print('ham')\n",
    "print('spam')\n",
    "print('spam')"
   ]
  },
  {
   "cell_type": "markdown",
   "metadata": {},
   "source": [
    "<br>\n",
    "Ans.<br>\n",
    "if,else are the different blocks present in above code.<br>\n",
    "<b>Block1:</b> which ever comes inside 'if spam == 10:'.<br>\n",
    "as there should be atleast a single line of command or either 'pass' staement.\n",
    "so according to that 'print('eggs')' is inside block1.<br>\n",
    "<b>Block2:</b> which ever comes inside 'if spam > 5'.<br>\n",
    "as mentiontioned above for block same thing applies for block2.\n",
    "so according to that 'print('bacon')' is inside block2.<br>\n",
    "<b>Block3:</b> whichever comes inside the 'else:' will come under block three.<br>\n",
    "so definetly 'print('ham')' will be insid block 3.and 'print('spam')'mentioned two times below are optional.\n",
    "so 3 cases in else block\n",
    "\n",
    "<b> *note for block3 it was confirmed that all three print statements below 'else' are inside it so block three will be having all the three print statements.(i.e.)\n",
    "print('ham')<br>\n",
    "print('spam')<br>\n",
    "print('spam')<br> are in block3.</b>\n"
   ]
  },
  {
   "cell_type": "raw",
   "metadata": {},
   "source": [
    "8. Write code that prints Hello if 1 is stored in spam, prints Howdy if 2 is stored in spam, and prints Greetings! if anything else is stored in spam."
   ]
  },
  {
   "cell_type": "code",
   "execution_count": 1,
   "metadata": {},
   "outputs": [
    {
     "name": "stdout",
     "output_type": "stream",
     "text": [
      "Enter the number to be stored in spam : 2\n",
      "Howdy\n"
     ]
    }
   ],
   "source": [
    "spam = input(\"Enter the number to be stored in spam : \")\n",
    "if spam == '1':\n",
    "    print(\"Hello\")\n",
    "elif spam == '2':\n",
    "    print(\"Howdy\")\n",
    "else:\n",
    "    print(\"Greetings!\")"
   ]
  },
  {
   "cell_type": "raw",
   "metadata": {},
   "source": [
    "9.If your programme is stuck in an endless loop, what keys you’ll press?"
   ]
  },
  {
   "cell_type": "markdown",
   "metadata": {},
   "source": [
    "<br>\n",
    "Ans.<br>\n",
    "Ctrl+C if program is stuck in endless loop.<br>"
   ]
  },
  {
   "cell_type": "raw",
   "metadata": {},
   "source": [
    "10. How can you tell the difference between break and continue?"
   ]
  },
  {
   "cell_type": "markdown",
   "metadata": {},
   "source": [
    "<br>\n",
    "Ans.<br>\n",
    "<b>break</b> statement breaks its immediate loop and comes out of that loop(i.e the loop stops. and executes the remaining part after the loop) and <b>continue</b> statement skips what ever is below of the continue statement in that loop and goes of the next interation directly example is given below.<br>"
   ]
  },
  {
   "cell_type": "code",
   "execution_count": 2,
   "metadata": {},
   "outputs": [
    {
     "name": "stdout",
     "output_type": "stream",
     "text": [
      "1\n",
      "2\n",
      "3\n",
      "5\n"
     ]
    }
   ],
   "source": [
    "l =[1,2,3,4,5,6,7,8,9]\n",
    "for i in l:\n",
    "    if i == 4 :\n",
    "        continue\n",
    "        print(4)\n",
    "    if i >= 6:\n",
    "        break\n",
    "    if i == 4:\n",
    "        print(4)\n",
    "    print(i)"
   ]
  },
  {
   "cell_type": "markdown",
   "metadata": {},
   "source": [
    "<br>\n",
    "In the above example in 'i' the values in the list iterates and  prints at the last line inside the loop.so we see until '3' it prints fine but when i is equal to 4 it goes into continue statement and nothing is considered below of it, that is why we don't see anything printing after continue and directly iterates to the next element in the list. and when i is equal to 6.break statement comes into picture as the condition i >= 5 satisfies. It immediatly breaks the loop, so after 5 nothing else is printed in the output.<br>"
   ]
  },
  {
   "cell_type": "raw",
   "metadata": {},
   "source": [
    "11. In a for loop, what is the difference between range(10), range(0, 10), and range(0, 10, 1)?"
   ]
  },
  {
   "cell_type": "markdown",
   "metadata": {},
   "source": [
    "<br>\n",
    "Ans.<br>\n",
    "In the above case for the three(range(10), range(0, 10), and range(0, 10, 1)) for loop iterates the same, but if we consider some other case it would be different. Syntax of range is <b>range(start,end,step_size)</b>.here interations starts from <b>'start'</b> value and ends at <b>'end-1'</b> with the values interating in <b>step size</b> value.In range the start value and step size values are optional and start is default to '0' and step size default value is '1'. for more clear understanding lets take another example <b>range(2,10,2)</b> .here the values would be iterating from 2 to 9 with a step size of 2(i.e.)skip of 1 number  inbetween. So, output would be (2,4,6,8). as shown below."
   ]
  },
  {
   "cell_type": "code",
   "execution_count": 5,
   "metadata": {},
   "outputs": [
    {
     "name": "stdout",
     "output_type": "stream",
     "text": [
      "2\n",
      "4\n",
      "6\n",
      "8\n"
     ]
    }
   ],
   "source": [
    "for i in range(2,10,2):\n",
    "    print(i)"
   ]
  },
  {
   "cell_type": "raw",
   "metadata": {},
   "source": [
    "12. Write a short program that prints the numbers 1 to 10 using a for loop. Then write an equivalent program that prints the numbers 1 to 10 using a while loop."
   ]
  },
  {
   "cell_type": "code",
   "execution_count": 2,
   "metadata": {},
   "outputs": [
    {
     "name": "stdout",
     "output_type": "stream",
     "text": [
      "1 2 3 4 5 6 7 8 9 10 "
     ]
    }
   ],
   "source": [
    "#for loop\n",
    "for i in range(1,11):\n",
    "    print(i,end = ' ')"
   ]
  },
  {
   "cell_type": "code",
   "execution_count": 6,
   "metadata": {},
   "outputs": [
    {
     "name": "stdout",
     "output_type": "stream",
     "text": [
      "1 2 3 4 5 6 7 8 9 10 "
     ]
    }
   ],
   "source": [
    "i = 1\n",
    "while i <= 10:\n",
    "    print(i,end = ' ')\n",
    "    i +=1"
   ]
  },
  {
   "cell_type": "raw",
   "metadata": {},
   "source": [
    "13. If you had a function named bacon() inside a module named spam, how would you call it after importing spam?"
   ]
  },
  {
   "cell_type": "markdown",
   "metadata": {},
   "source": [
    "<br>\n",
    "Ans.<br>\n",
    "We call the function as <b>spam.bacon()</b> .<br>"
   ]
  },
  {
   "cell_type": "code",
   "execution_count": null,
   "metadata": {},
   "outputs": [],
   "source": []
  }
 ],
 "metadata": {
  "kernelspec": {
   "display_name": "Python 3",
   "language": "python",
   "name": "python3"
  },
  "language_info": {
   "codemirror_mode": {
    "name": "ipython",
    "version": 3
   },
   "file_extension": ".py",
   "mimetype": "text/x-python",
   "name": "python",
   "nbconvert_exporter": "python",
   "pygments_lexer": "ipython3",
   "version": "3.8.5"
  }
 },
 "nbformat": 4,
 "nbformat_minor": 4
}
