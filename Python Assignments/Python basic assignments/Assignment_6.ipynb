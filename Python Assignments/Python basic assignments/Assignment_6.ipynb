{
 "cells": [
  {
   "cell_type": "raw",
   "metadata": {},
   "source": [
    "1. What are escape characters, and how do you use them?"
   ]
  },
  {
   "cell_type": "markdown",
   "metadata": {},
   "source": [
    "<br>\n",
    "Ans.<br>\n",
    "An escape character is a backslash(\\) followed by the character you want to insert.These are used if we want pass something which is not accepted generally by the string. eg.(\\n(newline),\\t(tab),\\b(backspace),\\\\(backslash),\\'(single qoute) etc....)<br>"
   ]
  },
  {
   "cell_type": "raw",
   "metadata": {},
   "source": [
    "2. What do the escape characters n and t stand for?"
   ]
  },
  {
   "cell_type": "markdown",
   "metadata": {},
   "source": [
    "<br>\n",
    "Ans.<br>\n",
    "Escape character n stands for <b>newline</b> and escape character t stands for <b>tab</b>.<br>"
   ]
  },
  {
   "cell_type": "raw",
   "metadata": {},
   "source": [
    "3. What is the way to include backslash characters in a string?"
   ]
  },
  {
   "cell_type": "markdown",
   "metadata": {},
   "source": [
    "<br>\n",
    "Ans.<br>\n",
    "We need to give double backslash(\\\\) characters in a string. example code is given below.<br>"
   ]
  },
  {
   "cell_type": "code",
   "execution_count": 55,
   "metadata": {},
   "outputs": [
    {
     "name": "stdout",
     "output_type": "stream",
     "text": [
      "\\sujan\n"
     ]
    }
   ],
   "source": [
    "s = '\\\\sujan'\n",
    "print(s)"
   ]
  },
  {
   "cell_type": "raw",
   "metadata": {},
   "source": [
    "4. The string \"Howl's Moving Castle\" is a correct value. Why isn't the single quote character in the word Howl's not escaped a problem?"
   ]
  },
  {
   "cell_type": "markdown",
   "metadata": {},
   "source": [
    "<br>\n",
    "Ans.<br>\n",
    "<b>\"Howl's Moving Castle\"</b> in this string single qoute didn't give us an issue because the total string is kept in double qoutes so it wont consider single qoute as an end point.<br>"
   ]
  },
  {
   "cell_type": "raw",
   "metadata": {},
   "source": [
    "5. How do you write a string of newlines if you don't want to use the n character?"
   ]
  },
  {
   "cell_type": "markdown",
   "metadata": {},
   "source": [
    "<br>\n",
    "Ans.<br>\n",
    "We can use seperate print statements for each new line.example code given below.<br>"
   ]
  },
  {
   "cell_type": "code",
   "execution_count": 56,
   "metadata": {},
   "outputs": [
    {
     "name": "stdout",
     "output_type": "stream",
     "text": [
      "slfjokdf\n",
      "sdfjdkfm\n",
      "a;dsfkf\n"
     ]
    }
   ],
   "source": [
    "print(\"slfjokdf\")\n",
    "print(\"sdfjdkfm\")\n",
    "print(\"a;dsfkf\")"
   ]
  },
  {
   "cell_type": "raw",
   "metadata": {},
   "source": [
    "6. What are the values of the given expressions?\n",
    "'Hello, world!'[1]\n",
    "'Hello, world!'[0:5]\n",
    "'Hello, world!'[:5]\n",
    "'Hello, world!'[3:]"
   ]
  },
  {
   "cell_type": "markdown",
   "metadata": {},
   "source": [
    "<br>\n",
    "Ans.<br>\n",
    "'Hello, world!'[1]-------------->e<br>\n",
    "'Hello, world!'[0:5]------------>Hello<br>\n",
    "'Hello, world!'[:5]------------->Hello<br>\n",
    "'Hello, world!'[3:]------------->lo, world!<br>\n",
    "Code is given below.<br>\n",
    "<br>"
   ]
  },
  {
   "cell_type": "code",
   "execution_count": 57,
   "metadata": {},
   "outputs": [
    {
     "name": "stdout",
     "output_type": "stream",
     "text": [
      "Answer for 1st expression 'Hello, world!'[1]: e\n",
      "Answer for 2nd expression 'Hello, world!'[0:5]: Hello\n",
      "Answer for 3rd expression 'Hello, world!'[:5]: Hello\n",
      "Answer for 4th expression 'Hello, world!'[3:]: lo, world!\n"
     ]
    }
   ],
   "source": [
    "print(\"Answer for 1st expression 'Hello, world!'[1]:\",'Hello, world!'[1])\n",
    "print(\"Answer for 2nd expression 'Hello, world!'[0:5]:\",'Hello, world!'[0:5])\n",
    "print(\"Answer for 3rd expression 'Hello, world!'[:5]:\",'Hello, world!'[:5])\n",
    "print(\"Answer for 4th expression 'Hello, world!'[3:]:\",'Hello, world!'[3:])"
   ]
  },
  {
   "cell_type": "raw",
   "metadata": {},
   "source": [
    "7. What are the values of the following expressions?\n",
    "'Hello'.upper()\n",
    "'Hello'.upper().isupper()\n",
    "'Hello'.upper().lower()"
   ]
  },
  {
   "cell_type": "markdown",
   "metadata": {},
   "source": [
    "<br>\n",
    "Ans.<br>\n",
    "'Hello'.upper()----------------->HELLO<br>\n",
    "'Hello'.upper().isupper()------->True<br>\n",
    "'Hello'.upper().lower()--------->hello<br>\n",
    "Code is given below.<br>"
   ]
  },
  {
   "cell_type": "code",
   "execution_count": 58,
   "metadata": {},
   "outputs": [
    {
     "name": "stdout",
     "output_type": "stream",
     "text": [
      "Answer for 1st expression 'Hello'.upper(): HELLO\n",
      "Answer for 2nd expression 'Hello'.upper().isupper(): True\n",
      "Answer for 3rd expression 'Hello'.upper().lower(): hello\n"
     ]
    }
   ],
   "source": [
    "print(\"Answer for 1st expression 'Hello'.upper():\",'Hello'.upper())\n",
    "print(\"Answer for 2nd expression 'Hello'.upper().isupper():\",'Hello'.upper().isupper())\n",
    "print(\"Answer for 3rd expression 'Hello'.upper().lower():\",'Hello'.upper().lower())"
   ]
  },
  {
   "cell_type": "raw",
   "metadata": {},
   "source": [
    "8. What are the values of the following expressions?\n",
    "'Remember, remember, the fifth of July.'.split()\n",
    "'-'.join('There can only one.'.split())"
   ]
  },
  {
   "cell_type": "markdown",
   "metadata": {},
   "source": [
    "<br>\n",
    "Ans.<br>\n",
    "Values of the expressions are given in below code.<br>"
   ]
  },
  {
   "cell_type": "code",
   "execution_count": 59,
   "metadata": {},
   "outputs": [
    {
     "name": "stdout",
     "output_type": "stream",
     "text": [
      "Answer for 1st expression 'Remember, remember, the fifth of July.'.split():\n",
      " ['Remember,', 'remember,', 'the', 'fifth', 'of', 'July.']\n",
      "Answer for 2nd expression '-'.join('There can only one.'.split()):\n",
      " There-can-only-one.\n"
     ]
    }
   ],
   "source": [
    "print(\"Answer for 1st expression 'Remember, remember, the fifth of July.'.split():\\n\",'Remember, remember, the fifth of July.'.split())\n",
    "print(\"Answer for 2nd expression '-'.join('There can only one.'.split()):\\n\",'-'.join('There can only one.'.split()))"
   ]
  },
  {
   "cell_type": "raw",
   "metadata": {},
   "source": [
    "9. What are the methods for right-justifying, left-justifying, and centering a string?"
   ]
  },
  {
   "cell_type": "markdown",
   "metadata": {},
   "source": [
    "<br>\n",
    "Ans.<br>\n",
    "str.ljust(length,fillchar)-->left-justifying<br>\n",
    "str.rjust(length,fillchar)-->right-justifying<br>\n",
    "str.center(length,fillchar)->centering<br>\n",
    "<b>Note:</b> fillchar is an optional argument we should give the character that needs to be filled in empty spaces.<br>\n",
    "Code is given below.<br>"
   ]
  },
  {
   "cell_type": "code",
   "execution_count": 60,
   "metadata": {},
   "outputs": [
    {
     "name": "stdout",
     "output_type": "stream",
     "text": [
      "sujan###################################\n",
      "                                   sujan\n",
      "#################sujan##################\n"
     ]
    }
   ],
   "source": [
    "s = 'sujan'\n",
    "print(s.ljust(40,'#'))\n",
    "print(s.rjust(40))\n",
    "print(s.center(40,'#'))"
   ]
  },
  {
   "cell_type": "raw",
   "metadata": {},
   "source": [
    "10. What is the best way to remove whitespace characters from the start or end?"
   ]
  },
  {
   "cell_type": "markdown",
   "metadata": {},
   "source": [
    "<br>\n",
    "Ans.<br>\n",
    "<b>string.lstrip()</b> removes the whitespace characters at the start.<br>\n",
    "<b>string.rstrip()</b> removes the whitespace characters at the end .<br>\n",
    "<b>string.strip()</b> removes the whitespace characters from the start and end .<br>\n",
    "Code is given below.<br>"
   ]
  },
  {
   "cell_type": "code",
   "execution_count": 62,
   "metadata": {},
   "outputs": [
    {
     "name": "stdout",
     "output_type": "stream",
     "text": [
      "String without triming whitespace from start and end:'     sujan             '\n",
      "String with triming whitespace at start :'sujan             '\n",
      "String with triming whitespace at end :'     sujan'\n",
      "String with triming whitespace at start and end both:'sujan'\n"
     ]
    }
   ],
   "source": [
    "s = '     sujan             '\n",
    "print(\"String without triming whitespace from start and end:'\"+s+\"'\")\n",
    "print(\"String with triming whitespace at start :'\"+s.lstrip()+\"'\")\n",
    "print(\"String with triming whitespace at end :'\"+s.rstrip()+\"'\")\n",
    "print(\"String with triming whitespace at start and end both:'\"+s.strip()+\"'\")"
   ]
  },
  {
   "cell_type": "code",
   "execution_count": null,
   "metadata": {},
   "outputs": [],
   "source": []
  }
 ],
 "metadata": {
  "kernelspec": {
   "display_name": "Python 3",
   "language": "python",
   "name": "python3"
  },
  "language_info": {
   "codemirror_mode": {
    "name": "ipython",
    "version": 3
   },
   "file_extension": ".py",
   "mimetype": "text/x-python",
   "name": "python",
   "nbconvert_exporter": "python",
   "pygments_lexer": "ipython3",
   "version": "3.8.5"
  }
 },
 "nbformat": 4,
 "nbformat_minor": 4
}
