{
 "cells": [
  {
   "cell_type": "raw",
   "metadata": {},
   "source": [
    "1. In the below elements which of them are values or an expression? eg:- values can be integer or string and expressions will be mathematical operators.\n",
    "\n",
    "* \n",
    "'hello' \n",
    "-87.8 \n",
    "- \n",
    "/ \n",
    "+ \n",
    "6 "
   ]
  },
  {
   "cell_type": "markdown",
   "metadata": {},
   "source": [
    "<br>\n",
    "Ans.<br>\n",
    "(*,-,/,+) are the expressions and ('hello',-87.8,6) are the values.<br>"
   ]
  },
  {
   "cell_type": "raw",
   "metadata": {},
   "source": [
    "2. What is the difference between string and variable?"
   ]
  },
  {
   "cell_type": "markdown",
   "metadata": {},
   "source": [
    "<br>\n",
    "Ans.<br>\n",
    "String is a data type and always represented inside qoutes('') and varabile is an alias name for some memory location where we can store data of different data types.<br>"
   ]
  },
  {
   "cell_type": "raw",
   "metadata": {},
   "source": [
    "3. Describe three different data types."
   ]
  },
  {
   "cell_type": "markdown",
   "metadata": {},
   "source": [
    "<br>\n",
    "Ans.<br>\n",
    "Integer(int) - which has numbers without any decimals. eg. 786,-789\n",
    "Float(float) - which has numbers with decimal values. eg. 89.7,-89.7\n",
    "String(str)  - which has charactes and represented inside qoutes. eg. 'asdfa','854959,dkd'\n",
    "there are other types like list ,tuple,set,dictionary,boolean etc..<br>"
   ]
  },
  {
   "cell_type": "raw",
   "metadata": {},
   "source": [
    "4. What is an expression made up of? What do all expressions do?"
   ]
  },
  {
   "cell_type": "markdown",
   "metadata": {},
   "source": [
    "<br>\n",
    "Ans.<br>\n",
    "expression is made up of variables and operators. It gives us the result according to the operations performed by the operators on the variables.<br>"
   ]
  },
  {
   "cell_type": "raw",
   "metadata": {},
   "source": [
    "5. This assignment statements, like spam = 10. What is the difference between an expression and a statement?"
   ]
  },
  {
   "cell_type": "markdown",
   "metadata": {},
   "source": [
    "<br>\n",
    "Ans.<br>\n",
    "Statement is a command something which we will not yield any new output is just assigns or get some data which is already present.eg. s = 'sujan'. but expression is as said in above question 4 made up of variables and operators. It gives us the result according to the operations performed by the operators on the variables.<br>"
   ]
  },
  {
   "cell_type": "raw",
   "metadata": {},
   "source": [
    "6. After running the following code, what does the variable bacon contain?\n",
    "bacon = 22\n",
    "bacon + 1"
   ]
  },
  {
   "cell_type": "markdown",
   "metadata": {},
   "source": [
    "<br>\n",
    "Ans.<br>\n",
    "22<br>"
   ]
  },
  {
   "cell_type": "raw",
   "metadata": {},
   "source": [
    "7. What should the values of the following two terms be?\n",
    "'spam' + 'spamspam'\n",
    "'spam' * 3"
   ]
  },
  {
   "cell_type": "markdown",
   "metadata": {},
   "source": [
    "<br>\n",
    "Ans.<br>\n",
    "'spamspamspam'<br>"
   ]
  },
  {
   "cell_type": "raw",
   "metadata": {},
   "source": [
    "8. Why is eggs a valid variable name while 100 is invalid?"
   ]
  },
  {
   "cell_type": "markdown",
   "metadata": {},
   "source": [
    "<br>\n",
    "Ans.<br>\n",
    "standard rules for naming in Python:\n",
    "1.Should begin with alphabets[A-Z or a-z] or (_) .\n",
    "2.Should not start with a number.\n",
    "3.Cannot contain special charecters like (.), @ etc.<br>"
   ]
  },
  {
   "cell_type": "raw",
   "metadata": {},
   "source": [
    "9. What three functions can be used to get the integer, floating-point number, or string version of a value?"
   ]
  },
  {
   "cell_type": "markdown",
   "metadata": {},
   "source": [
    "<br>\n",
    "Ans.<br>\n",
    "integer - int()\n",
    "floating-point - float()\n",
    "string - str()<br>"
   ]
  },
  {
   "cell_type": "raw",
   "metadata": {},
   "source": [
    "10. Why does this expression cause an error? How can you fix it?\n",
    "'I have eaten ' + 99 + ' burritos.'"
   ]
  },
  {
   "cell_type": "markdown",
   "metadata": {},
   "source": [
    "<br>\n",
    "Ans.<br>\n",
    "String and integer are different data types so we cannot concatenate them.\n",
    "fix is : 'I have eaten ' + str(99) + ' burritos.<br>"
   ]
  },
  {
   "cell_type": "code",
   "execution_count": null,
   "metadata": {},
   "outputs": [],
   "source": []
  },
  {
   "cell_type": "code",
   "execution_count": null,
   "metadata": {},
   "outputs": [],
   "source": []
  }
 ],
 "metadata": {
  "kernelspec": {
   "display_name": "Python 3",
   "language": "python",
   "name": "python3"
  },
  "language_info": {
   "codemirror_mode": {
    "name": "ipython",
    "version": 3
   },
   "file_extension": ".py",
   "mimetype": "text/x-python",
   "name": "python",
   "nbconvert_exporter": "python",
   "pygments_lexer": "ipython3",
   "version": "3.8.5"
  }
 },
 "nbformat": 4,
 "nbformat_minor": 4
}
