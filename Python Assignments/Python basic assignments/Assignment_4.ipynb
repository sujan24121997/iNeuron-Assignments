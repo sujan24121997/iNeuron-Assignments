{
 "cells": [
  {
   "cell_type": "raw",
   "metadata": {},
   "source": [
    "1. What exactly is []?"
   ]
  },
  {
   "cell_type": "markdown",
   "metadata": {},
   "source": [
    "<br>\n",
    "Ans.<br>\n",
    "It is an empty list.<br>"
   ]
  },
  {
   "cell_type": "raw",
   "metadata": {},
   "source": [
    "2. In a list of values stored in a variable called spam, how would you assign the value 'hello' as the third value? (Assume [2,    4, 6, 8, 10] are in spam.)"
   ]
  },
  {
   "cell_type": "markdown",
   "metadata": {},
   "source": [
    "<br>\n",
    "Ans.<br>\n",
    "<b>spam.insert(2,'hello')</b> with this command we can insert 'hello' as the third value. Given below the complete code<br>"
   ]
  },
  {
   "cell_type": "code",
   "execution_count": 1,
   "metadata": {},
   "outputs": [
    {
     "name": "stdout",
     "output_type": "stream",
     "text": [
      "spam list before entering 'hello' as third value : [2, 4, 6, 8, 10]\n",
      "spam list after entering 'hello' as third value : [2, 4, 'hello', 6, 8, 10]\n"
     ]
    }
   ],
   "source": [
    "spam = [2, 4, 6, 8, 10]\n",
    "print(\"spam list before entering 'hello' as third value :\",spam)\n",
    "spam.insert(2,'hello')\n",
    "print(\"spam list after entering 'hello' as third value :\",spam)"
   ]
  },
  {
   "cell_type": "markdown",
   "metadata": {},
   "source": [
    "### Let's pretend the spam includes the list ['a', 'b', 'c', 'd'] for the next three queries."
   ]
  },
  {
   "cell_type": "raw",
   "metadata": {},
   "source": [
    "3. What is the value of spam[int(int('3' * 2) / 11)]?"
   ]
  },
  {
   "cell_type": "markdown",
   "metadata": {},
   "source": [
    "<br>\n",
    "Ans.<br>\n",
    "<b>'d'</b>(spam[3] value) The code for this is given below question 5.<br>"
   ]
  },
  {
   "cell_type": "raw",
   "metadata": {},
   "source": [
    "4. What is the value of spam[-1]?"
   ]
  },
  {
   "cell_type": "markdown",
   "metadata": {},
   "source": [
    "<br>\n",
    "Ans.<br>\n",
    "<b>'d'</b> The code for this is given below question 5.<br>"
   ]
  },
  {
   "cell_type": "raw",
   "metadata": {},
   "source": [
    "5. What is the value of spam[:2]?"
   ]
  },
  {
   "cell_type": "markdown",
   "metadata": {},
   "source": [
    "<br>\n",
    "Ans.<br>\n",
    "<b>['a', 'b']</b> The code for this is given below question 5.<br>"
   ]
  },
  {
   "cell_type": "code",
   "execution_count": 2,
   "metadata": {},
   "outputs": [
    {
     "name": "stdout",
     "output_type": "stream",
     "text": [
      "Answer for question 3 : d\n",
      "Answer for question 4 : d\n",
      "Answer for question 5 : ['a', 'b']\n"
     ]
    }
   ],
   "source": [
    "#code for above three queries.\n",
    "spam = ['a','b','c','d']\n",
    "print(\"Answer for question 3 :\",spam [int(int('3' * 2) / 11)])\n",
    "print(\"Answer for question 4 :\",spam[-1])\n",
    "print(\"Answer for question 5 :\",spam[:2])"
   ]
  },
  {
   "cell_type": "markdown",
   "metadata": {},
   "source": [
    "### Let's pretend bacon has the list [3.14, 'cat', 11, 'cat', True] for the next three questions."
   ]
  },
  {
   "cell_type": "raw",
   "metadata": {},
   "source": [
    "6. What is the value of bacon.index('cat')?"
   ]
  },
  {
   "cell_type": "markdown",
   "metadata": {},
   "source": [
    "<br>\n",
    "Ans.<br>\n",
    "The index value is 1(gives the first index of 'cat' value found.) Code given below.<br>"
   ]
  },
  {
   "cell_type": "code",
   "execution_count": 3,
   "metadata": {},
   "outputs": [
    {
     "name": "stdout",
     "output_type": "stream",
     "text": [
      "Finding the first index of 'cat' value in list bacon: 1\n"
     ]
    }
   ],
   "source": [
    "bacon = [3.14, 'cat',11, 'cat', True]\n",
    "print(\"Finding the first index of 'cat' value in list bacon:\",bacon.index('cat'))"
   ]
  },
  {
   "cell_type": "raw",
   "metadata": {},
   "source": [
    "7. How does bacon.append(99) change the look of the list value in bacon?"
   ]
  },
  {
   "cell_type": "markdown",
   "metadata": {},
   "source": [
    "<br>\n",
    "Ans.<br>\n",
    "This appends the value 99 as the last element of existing list. Code given below.<br>"
   ]
  },
  {
   "cell_type": "code",
   "execution_count": 4,
   "metadata": {},
   "outputs": [
    {
     "name": "stdout",
     "output_type": "stream",
     "text": [
      "After appending 99 to list bacon. [3.14, 'cat', 11, 'cat', True, 99]\n"
     ]
    }
   ],
   "source": [
    "bacon = [3.14, 'cat',11, 'cat', True]\n",
    "bacon.append(99)\n",
    "print(\"After appending 99 to list bacon.\",bacon)"
   ]
  },
  {
   "cell_type": "raw",
   "metadata": {},
   "source": [
    "8. How does bacon.remove('cat') change the look of the list in bacon?"
   ]
  },
  {
   "cell_type": "markdown",
   "metadata": {},
   "source": [
    "<br>\n",
    "Ans.<br>\n",
    "It removes the first 'cat' value found in the list bacon.Code is given below<br>"
   ]
  },
  {
   "cell_type": "code",
   "execution_count": 5,
   "metadata": {},
   "outputs": [
    {
     "name": "stdout",
     "output_type": "stream",
     "text": [
      "After removing the first 'cat' value from the list bacon. [3.14, 11, 'cat', True]\n"
     ]
    }
   ],
   "source": [
    "bacon = [3.14, 'cat',11, 'cat', True]\n",
    "bacon.remove('cat')\n",
    "print(\"After removing the first 'cat' value from the list bacon.\",bacon)"
   ]
  },
  {
   "cell_type": "raw",
   "metadata": {},
   "source": [
    "9. What are the list concatenation and list replication operators?"
   ]
  },
  {
   "cell_type": "markdown",
   "metadata": {},
   "source": [
    "<br>\n",
    "Ans.<br>\n",
    "The operator for list concatenation is <b>+</b>, while the operator for replication is <b>*</b>.<br>"
   ]
  },
  {
   "cell_type": "code",
   "execution_count": 6,
   "metadata": {},
   "outputs": [
    {
     "name": "stdout",
     "output_type": "stream",
     "text": [
      "concatinating list to [1,2] is: [2, 3, 4, 65, 'hello', 1, 2]\n",
      "Replication list to  is: [2, 3, 4, 65, 'hello', 2, 3, 4, 65, 'hello']\n"
     ]
    }
   ],
   "source": [
    "li = [2,3,4,65,'hello']\n",
    "print(\"concatinating list to [1,2] is:\",li + [1,2])\n",
    "print(\"Replication list to  is:\",li*2)"
   ]
  },
  {
   "cell_type": "raw",
   "metadata": {},
   "source": [
    "10. What is difference between the list methods append() and insert()?"
   ]
  },
  {
   "cell_type": "markdown",
   "metadata": {},
   "source": [
    "<br>\n",
    "Ans.<br>\n",
    "<b>append()</b> method appends the data at the end of the list to the existing list.It has only one argument to be passed(the value to be appended).<br>\n",
    "<b>Syntax:</b> list_name.append(value)<br>\n",
    "<b>insert()</b> method inserts the data at the position given by us in the list.It has two arguments to be passed(index position and the value).<br>\n",
    "<b>Syntax:</b> list_name.insert(index,value)<br>\n",
    "<b>Note:</b> If the index position given is greater than the length of the list it appends as the last element to the list(but do not give an error).<br>\n",
    "Sample code is given below.<br>"
   ]
  },
  {
   "cell_type": "code",
   "execution_count": 8,
   "metadata": {},
   "outputs": [
    {
     "name": "stdout",
     "output_type": "stream",
     "text": [
      "list before inserting or appending [1, 2]\n",
      "list after appending 'ele'  [1, 2, 'ele']\n",
      "list after inserting 'sujan' at the index position 1  [1, 'sujan', 2, 'ele']\n",
      "list after trying to inserting 'sujan' at the index position 20(where the max. index of list is 4 )\n",
      " [1, 'sujan', 2, 'ele', 'sujan']\n"
     ]
    }
   ],
   "source": [
    "li = [1,2]\n",
    "print(\"list before inserting or appending\",li)\n",
    "li.append('ele')\n",
    "print(\"list after appending 'ele' \",li)\n",
    "li.insert(1,'sujan')\n",
    "print(\"list after inserting 'sujan' at the index position 1 \",li)\n",
    "li.insert(20,'sujan')\n",
    "print(\"list after trying to inserting 'sujan' at the index position 20(where the max. index of list is\",len(li)-1,\")\\n\",li)"
   ]
  },
  {
   "cell_type": "raw",
   "metadata": {},
   "source": [
    "11. What are the two methods for removing items from a list?"
   ]
  },
  {
   "cell_type": "markdown",
   "metadata": {},
   "source": [
    "<br>\n",
    "Ans.<br>\n",
    "remove() and pop() are the functions which remove items from the list.<br>\n",
    "<b>Syntax:</b>\n",
    "<ul>\n",
    "    <li>list_name.remove(item_name)</li>\n",
    "    <li>list_name.pop(index) *If no index is given it removes the last value of list.</li>\n",
    "</ul>\n",
    "<b>Note:</b> There is another fuction clear() which clears all the elements in the list(list_name.clear()).<br>\n",
    "Sample code is given below.<br>"
   ]
  },
  {
   "cell_type": "code",
   "execution_count": 9,
   "metadata": {},
   "outputs": [
    {
     "name": "stdout",
     "output_type": "stream",
     "text": [
      "list after removing the first 'sujan' value from it: [1, 23, 434, 5, 'hello', 3.4, 'sujan', 1, 23, 434, 5, 'hello', 3.4]\n",
      "list after poping the index value 3(4th place): [1, 23, 434, 'hello', 3.4, 'sujan', 1, 23, 434, 5, 'hello', 3.4]\n",
      "List after clearing all the values: []\n"
     ]
    }
   ],
   "source": [
    "li = ['sujan',1,23,434,5,'hello',3.4,'sujan',1,23,434,5,'hello',3.4]\n",
    "li.remove('sujan')\n",
    "print(\"list after removing the first 'sujan' value from it:\",li)\n",
    "li.pop(3)\n",
    "print(\"list after poping the index value 3(4th place):\",li)\n",
    "li.clear()\n",
    "print(\"List after clearing all the values:\",li)"
   ]
  },
  {
   "cell_type": "raw",
   "metadata": {},
   "source": [
    "12. Describe how list values and string values are identical."
   ]
  },
  {
   "cell_type": "markdown",
   "metadata": {},
   "source": [
    "<br>\n",
    "Ans.<br>\n",
    "List and String are iterable datatypes and in both these datatypes slicing can be done and we can use concatenation and replication operations for both of them.<br>"
   ]
  },
  {
   "cell_type": "raw",
   "metadata": {},
   "source": [
    "13. What's the difference between tuples and lists?"
   ]
  },
  {
   "cell_type": "markdown",
   "metadata": {},
   "source": [
    "<br>\n",
    "Ans.<br>\n",
    "Lists are mutable(can change the items in the same memory) objects and are defined in '[]' and tuples are immutable(cannot change the items in the same memory) objects and are defined in '()' and a ',' inside those peranthesis is important to make them a tuple(will only face while creating one element in a tuple).<br>"
   ]
  },
  {
   "cell_type": "raw",
   "metadata": {},
   "source": [
    "14. How do you type a tuple value that only contains the integer 42?"
   ]
  },
  {
   "cell_type": "markdown",
   "metadata": {},
   "source": [
    "<br>\n",
    "Ans.<br>\n",
    "<b>tuple_name = (42,)</b> This is how we give tuple value that only contains the integer 42 because python will not recognize it as a tuple if we didn't give that ',' at the last(this is applicable for only one element tuples).<br>"
   ]
  },
  {
   "cell_type": "code",
   "execution_count": 10,
   "metadata": {},
   "outputs": [
    {
     "name": "stdout",
     "output_type": "stream",
     "text": [
      "Without giving ','  even though we give it '()' it only takes it as integer: <class 'int'>\n",
      "Correctly defining a tuple: <class 'tuple'>\n"
     ]
    }
   ],
   "source": [
    "t =(42)\n",
    "print(\"Without giving ','  even though we give it '()' it only takes it as integer:\",type(t))\n",
    "t = (42,)\n",
    "print(\"Correctly defining a tuple:\",type(t))"
   ]
  },
  {
   "cell_type": "raw",
   "metadata": {},
   "source": [
    "15. How do you get a list value's tuple form? How do you get a tuple value's list form?"
   ]
  },
  {
   "cell_type": "markdown",
   "metadata": {},
   "source": [
    "<br>\n",
    "Ans.<br>\n",
    "list value's tuple form:<b>list_name = list(tuple_name) or list_name = list(tuple(eg.(1,2,3,4)))</b>.<br>\n",
    "tuple value's list form:<b>tuple_name = tuple(list_name or tuple_name = tuple(list(eg.[1,2,3,4]))</b>.<br>"
   ]
  },
  {
   "cell_type": "code",
   "execution_count": 11,
   "metadata": {},
   "outputs": [
    {
     "name": "stdout",
     "output_type": "stream",
     "text": [
      "Tuple is conveted to list\n",
      "tuple: (1, 2, 3, 4) <class 'tuple'> \n",
      "list: [1, 2, 3, 4] <class 'list'>\n",
      "List is converted to tuple\n",
      "list: [1, 2, 3, 4] <class 'list'> \n",
      "tuple (1, 2, 3, 4) <class 'tuple'>\n"
     ]
    }
   ],
   "source": [
    "t= (1,2,3,4)\n",
    "li = list(t)\n",
    "print(\"Tuple is conveted to list\\ntuple:\",t,type(t),\"\\nlist:\",li,type(li))\n",
    "t1 = tuple(li)\n",
    "print(\"List is converted to tuple\\nlist:\",li,type(li),\"\\ntuple\",t1,type(t1))"
   ]
  },
  {
   "cell_type": "raw",
   "metadata": {},
   "source": [
    "16. Variables that \"contain\" list values are not necessarily lists themselves. Instead, what do they contain?"
   ]
  },
  {
   "cell_type": "markdown",
   "metadata": {},
   "source": [
    "<br>\n",
    "Ans.<br>\n",
    "They can have all kinds of data types inside a list.<br>\n",
    "Sample code is given below where almost all the types are covered up.<br>"
   ]
  },
  {
   "cell_type": "code",
   "execution_count": 19,
   "metadata": {},
   "outputs": [
    {
     "name": "stdout",
     "output_type": "stream",
     "text": [
      "[1, 1.1, 'sujan', (1+2j), True, None, [1, 2, 3], (1, 2, 3), range(1, 10), {1, 2, 3}, {1: 'sujan'}, bytearray(b'\\x00\\x00\\x00\\x00\\x00'), b'\\x00\\x00\\x00\\x00\\x00']\n"
     ]
    }
   ],
   "source": [
    "l = [1,1.1,'sujan',1+2j,True,None,[1,2,3],(1,2,3),range(1,10),{1,2,3},{1:'sujan'},bytearray(5),bytes(5)]\n",
    "print(l)"
   ]
  },
  {
   "cell_type": "raw",
   "metadata": {},
   "source": [
    "17. How do you distinguish between copy.copy() and copy.deepcopy()?"
   ]
  },
  {
   "cell_type": "markdown",
   "metadata": {},
   "source": [
    "<br>\n",
    "Ans.<br>\n",
    "<b>copy.copy()</b> creates a new object and refers the elements from the object that is copied so if we change in one of the objects it would change the other object.<br> \n",
    "<b>copy.deepcopy()</b> creates new objects and also new elements so if we change in one of the objects it won't change the other object.<br>"
   ]
  },
  {
   "cell_type": "code",
   "execution_count": 20,
   "metadata": {},
   "outputs": [
    {
     "name": "stdout",
     "output_type": "stream",
     "text": [
      "New object(b) is created so 'a' and 'b' are different objects(answer will be False) False\n",
      "\n",
      "The elements inside the new object(b) are refered from a(answer will be True) True\n",
      "\n",
      "New object(c) is created so 'a' and 'b' are different objects(answer will be False) False\n",
      "\n",
      "The elements inside the new object(b) are not refered(they are copied and new space is created) from a(answer will be False)\n",
      " True\n"
     ]
    }
   ],
   "source": [
    "import copy\n",
    "a = [1,2,3,[4,5]]\n",
    "b = copy.copy(a)\n",
    "c = copy.deepcopy(a)\n",
    "print(\"New object(b) is created so 'a' and 'b' are different objects(answer will be False)\",id(a) == id(b))\n",
    "print(\"\\nThe elements inside the new object(b) are refered from a(answer will be True)\",id(a[0]) == id(b[0]))\n",
    "print(\"\\nNew object(c) is created so 'a' and 'b' are different objects(answer will be False)\",id(a) == id(c))\n",
    "print(\"\\nThe elements inside the new object(b) are not refered(they are copied and new space is created) from a(answer will be False)\\n\",id(a[0]) == id(c[0]))"
   ]
  },
  {
   "cell_type": "code",
   "execution_count": null,
   "metadata": {},
   "outputs": [],
   "source": []
  }
 ],
 "metadata": {
  "kernelspec": {
   "display_name": "Python 3",
   "language": "python",
   "name": "python3"
  },
  "language_info": {
   "codemirror_mode": {
    "name": "ipython",
    "version": 3
   },
   "file_extension": ".py",
   "mimetype": "text/x-python",
   "name": "python",
   "nbconvert_exporter": "python",
   "pygments_lexer": "ipython3",
   "version": "3.8.5"
  }
 },
 "nbformat": 4,
 "nbformat_minor": 4
}
