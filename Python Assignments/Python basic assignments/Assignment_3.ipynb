{
 "cells": [
  {
   "cell_type": "raw",
   "metadata": {},
   "source": [
    "1. Why are functions advantageous to have in your programs?"
   ]
  },
  {
   "cell_type": "markdown",
   "metadata": {},
   "source": [
    "<br>\n",
    "Ans.<br>\n",
    "The advantages of using functions in programs are:<br>\n",
    "<ol>\n",
    "<li> To avoid repetaion of the code.</li>\n",
    "<li> The code looks simpler,readable and easy to debug. </li>\n",
    "<li> Reusability of the code.</li>\n",
    "<li> Less chances of getting error in the code.</li>\n",
    "<li> Would be a good practice for writting production like code.</li>\n",
    "</ol><br>"
   ]
  },
  {
   "cell_type": "raw",
   "metadata": {},
   "source": [
    "2. When does the code in a function run: when it's specified or when it's called?"
   ]
  },
  {
   "cell_type": "markdown",
   "metadata": {},
   "source": [
    "<br>\n",
    "Ans.<br>\n",
    "When the function is called, then only the function starts running.<br>"
   ]
  },
  {
   "cell_type": "raw",
   "metadata": {},
   "source": [
    "3. What statement creates a function?"
   ]
  },
  {
   "cell_type": "markdown",
   "metadata": {},
   "source": [
    "<br>\n",
    "Ans.<br>\n",
    "<b>def</b> is the keyword which is used to define a function below is the gven the syntax.<br>\n",
    "Syntax :<br>\n",
    "<b>To create a function</b><br>\n",
    "def function_name(arguments):<br>\n",
    "    &emsp;&emsp;function_body line1<br>\n",
    "    &emsp;&emsp;function_body line2<br>\n",
    "    &emsp;&emsp;function_body line3<br>\n",
    "    &emsp;&emsp;.......<br>\n",
    "    &emsp;&emsp;return variable_to_return(optional)<br>\n",
    "<b>To call a function(function call)</b><br>\n",
    "function_name(arguments)<br>\n",
    "<b>Note:</b>If there is return statement in the function you should assign it to the variables which are equal to the  no. of variables returned by the function.<br>"
   ]
  },
  {
   "cell_type": "raw",
   "metadata": {},
   "source": [
    "4. What is the difference between a function and a function call?"
   ]
  },
  {
   "cell_type": "markdown",
   "metadata": {},
   "source": [
    "<br>\n",
    "Ans.<br>\n",
    "<b>Function</b> is set of lines of code to achieve some task and <b>function call</b> is calling the function and achieving the task to be done Syntax for both of these are provided in the answer of question no.3.<br>"
   ]
  },
  {
   "cell_type": "raw",
   "metadata": {},
   "source": [
    "5. How many global scopes are there in a Python program? How many local scopes?"
   ]
  },
  {
   "cell_type": "markdown",
   "metadata": {},
   "source": [
    "<br>\n",
    "Ans.<br>\n",
    "If we consider <b>gobal scope</b> of a variable it will be <b>only one</b> for a program. But if the variable is defined inside some function then the <b>local scope</b> of that variable in the program would be equal to the <b> no. of times it is used inside different functions inside same program</b>. <br>"
   ]
  },
  {
   "cell_type": "raw",
   "metadata": {},
   "source": [
    "6. What happens to variables in a local scope when the function call returns?"
   ]
  },
  {
   "cell_type": "markdown",
   "metadata": {},
   "source": [
    "<br>\n",
    "Ans.<br>\n",
    "A local variable retains its value until the next time the function is called a local variable or it is called in global.<br>"
   ]
  },
  {
   "cell_type": "raw",
   "metadata": {},
   "source": [
    "7. What is the concept of a return value? Is it possible to have a return value in an expression?"
   ]
  },
  {
   "cell_type": "markdown",
   "metadata": {},
   "source": [
    "<br>\n",
    "Ans.<br>\n",
    "When a function completes its task it returns some value to the caller.Syntax would be <b>return</b> keyword followed by what needs to be returned.If no return is given in the function it reutrns <b>NoneType</b> example is given below.<br>\n",
    "Yes, it is possible to return an expression. example is given below.<br>"
   ]
  },
  {
   "cell_type": "code",
   "execution_count": 2,
   "metadata": {},
   "outputs": [
    {
     "data": {
      "text/plain": [
       "NoneType"
      ]
     },
     "execution_count": 2,
     "metadata": {},
     "output_type": "execute_result"
    }
   ],
   "source": [
    "#Returning NoneType\n",
    "def a(a,b):\n",
    "    c = a+b\n",
    "type(a(4,5))"
   ]
  },
  {
   "cell_type": "code",
   "execution_count": 4,
   "metadata": {},
   "outputs": [
    {
     "name": "stdout",
     "output_type": "stream",
     "text": [
      "Hi sujan Welcome\n"
     ]
    }
   ],
   "source": [
    "# returning some expression\n",
    "def msg(name):\n",
    "    return \"Hi \"+str(name)+\" Welcome\"\n",
    "name_string = msg(\"sujan\")\n",
    "print(name_string)"
   ]
  },
  {
   "cell_type": "raw",
   "metadata": {},
   "source": [
    "8. If a function does not have a return statement, what is the return value of a call to that function?"
   ]
  },
  {
   "cell_type": "markdown",
   "metadata": {},
   "source": [
    "<br>\n",
    "Ans.<br>\n",
    "<b>NoneType</b> would be the return value. Example is given in the answer of question 7.<br>"
   ]
  },
  {
   "cell_type": "raw",
   "metadata": {},
   "source": [
    "9. How do you make a function variable refer to the global variable?"
   ]
  },
  {
   "cell_type": "markdown",
   "metadata": {},
   "source": [
    "<br>\n",
    "Ans.<br>\n",
    "Keep the keyword <b>global</b> infront of the variable while defining the variable inside the function Example is given below(Even though 'a' is assigned to 10 only inside the function but due to the global keyword defined for 'a' it is 10 outside the function after the function is called).<br>"
   ]
  },
  {
   "cell_type": "code",
   "execution_count": 7,
   "metadata": {},
   "outputs": [
    {
     "name": "stdout",
     "output_type": "stream",
     "text": [
      "a before calling the function : 5\n",
      "a after calling the function : 10\n"
     ]
    }
   ],
   "source": [
    "a = 5\n",
    "def func():\n",
    "    global a \n",
    "    a = 10\n",
    "print(\"a before calling the function :\",a)\n",
    "func()\n",
    "print(\"a after calling the function :\",a)"
   ]
  },
  {
   "cell_type": "raw",
   "metadata": {},
   "source": [
    "10. What is the data type of None?"
   ]
  },
  {
   "cell_type": "markdown",
   "metadata": {},
   "source": [
    "<br>\n",
    "Ans.<br>\n",
    "None says it has no value and it is different from 0 or false or an empty string. its data type is <b>NoneType</b>.<br>"
   ]
  },
  {
   "cell_type": "raw",
   "metadata": {},
   "source": [
    "11. What does the sentence import areallyourpetsnamederic do?"
   ]
  },
  {
   "cell_type": "markdown",
   "metadata": {},
   "source": [
    "<br>\n",
    "Ans.<br>\n",
    "If the module <b>areallyourpetsnamederic</b> is present it will import the module otherwise give an error <b>ModuleNotFoundError</b>.<br>\n",
    "<b>Note:</b>There is no such kind of python module but if we create our own module with that name inside same directory the statement will work.<br>"
   ]
  },
  {
   "cell_type": "code",
   "execution_count": 2,
   "metadata": {
    "scrolled": true
   },
   "outputs": [
    {
     "ename": "ModuleNotFoundError",
     "evalue": "No module named 'areallyourpetsnamederic'",
     "output_type": "error",
     "traceback": [
      "\u001b[1;31m---------------------------------------------------------------------------\u001b[0m",
      "\u001b[1;31mModuleNotFoundError\u001b[0m                       Traceback (most recent call last)",
      "\u001b[1;32m<ipython-input-2-b1ea9cb2228f>\u001b[0m in \u001b[0;36m<module>\u001b[1;34m\u001b[0m\n\u001b[1;32m----> 1\u001b[1;33m \u001b[1;32mimport\u001b[0m \u001b[0mareallyourpetsnamederic\u001b[0m\u001b[1;33m\u001b[0m\u001b[1;33m\u001b[0m\u001b[0m\n\u001b[0m",
      "\u001b[1;31mModuleNotFoundError\u001b[0m: No module named 'areallyourpetsnamederic'"
     ]
    }
   ],
   "source": [
    "import areallyourpetsnamederic"
   ]
  },
  {
   "cell_type": "raw",
   "metadata": {},
   "source": [
    "12. If you had a bacon() feature in a spam module, what would you call it after importing spam?"
   ]
  },
  {
   "cell_type": "markdown",
   "metadata": {},
   "source": [
    "<br>\n",
    "Ans.<br>\n",
    "<b>spam.bacon()</b> this is how we call after importing spam.<br>"
   ]
  },
  {
   "cell_type": "raw",
   "metadata": {},
   "source": [
    "13. What can you do to save a programme from crashing if it encounters an error?"
   ]
  },
  {
   "cell_type": "markdown",
   "metadata": {},
   "source": [
    "<br>\n",
    "Ans.<br>\n",
    "For a compile time error we need to look that all the syntax are correct there is no other way but if we consider the runtime errors we can do exception handling and save the programme from crashing.<br>"
   ]
  },
  {
   "cell_type": "raw",
   "metadata": {},
   "source": [
    "14. What is the purpose of the try clause? What is the purpose of the except clause?"
   ]
  },
  {
   "cell_type": "markdown",
   "metadata": {},
   "source": [
    "<br>\n",
    "Ans.<br>\n",
    "In try clause the code runs until we get an exception and except clause catches and handles the exceptions.(i.e.,)If there is any runtime error occured in try clause it immediately goes to the except clause.<br>"
   ]
  },
  {
   "cell_type": "code",
   "execution_count": null,
   "metadata": {},
   "outputs": [],
   "source": []
  }
 ],
 "metadata": {
  "kernelspec": {
   "display_name": "Python 3",
   "language": "python",
   "name": "python3"
  },
  "language_info": {
   "codemirror_mode": {
    "name": "ipython",
    "version": 3
   },
   "file_extension": ".py",
   "mimetype": "text/x-python",
   "name": "python",
   "nbconvert_exporter": "python",
   "pygments_lexer": "ipython3",
   "version": "3.8.5"
  }
 },
 "nbformat": 4,
 "nbformat_minor": 4
}
