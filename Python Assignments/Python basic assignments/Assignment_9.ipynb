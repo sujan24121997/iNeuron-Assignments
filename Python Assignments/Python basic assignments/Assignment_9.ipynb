{
 "cells": [
  {
   "cell_type": "raw",
   "metadata": {},
   "source": [
    "1. To what does a relative path refer?"
   ]
  },
  {
   "cell_type": "markdown",
   "metadata": {},
   "source": [
    "<br>\n",
    "Ans.<br>\n",
    "A <b>relative path</b> refers to a location that is <b>relative to a current directory(present working directory)</b>.Relative paths make use of two special symbols, a dot (.) and a double-dot (..),  which translate into the current directory and the parent directory. Double dots are used for moving up in the hierarchy. A single dot represents the current directory itself.The current directory is sometimes referred to as the root directory.<br>"
   ]
  },
  {
   "cell_type": "raw",
   "metadata": {},
   "source": [
    "2. What does an absolute path start with your operating system?"
   ]
  },
  {
   "cell_type": "markdown",
   "metadata": {},
   "source": [
    "<br>\n",
    "Ans.<br>\n",
    "An <b>absolute path</b> is defined as the specifying the <b>location of a file or directory from the root directory(/)</b>. In other words we can say absolute path is a complete path from start of actual filesystem from / directory.<br>\n",
    "On Windows, an absolute path starts with a drive like <b>C:\\</b> . You can <b>cd</b> to an absolute path from anywhere on the filesystem.<br>"
   ]
  },
  {
   "cell_type": "raw",
   "metadata": {},
   "source": [
    "3. What do the functions os.getcwd() and os.chdir() do?"
   ]
  },
  {
   "cell_type": "markdown",
   "metadata": {},
   "source": [
    "<br>\n",
    "Ans.<br>\n",
    "<b>os.getcwd()</b> gives us current working directory.<br>\n",
    "<b>os.chdir()</b> changes to the directory given as an parameter<br>\n",
    "Sample code is given below.<br>"
   ]
  },
  {
   "cell_type": "code",
   "execution_count": 10,
   "metadata": {},
   "outputs": [
    {
     "name": "stdout",
     "output_type": "stream",
     "text": [
      "Current working directory : D:\\desktop\\data_science_i_neuron\\assignments\\python_basic_assignment\n",
      "Working directory changed to C :  C:\\\n",
      "Working directory changed back to original :  D:\\desktop\\data_science_i_neuron\\assignments\\python_basic_assignment\n"
     ]
    }
   ],
   "source": [
    "##Works only for windows with C drive present.\n",
    "import os\n",
    "try:\n",
    "    path = os.getcwd()\n",
    "    print(\"Current working directory :\",os.getcwd())#get current working directory\n",
    "    os.chdir('C:')#change the directory\n",
    "    print(\"Working directory changed to C : \",os.getcwd())#get current working directory\n",
    "    os.chdir(path)#changing back to original path\n",
    "    print(\"Working directory changed back to original : \",os.getcwd())\n",
    "except Exception as e:\n",
    "    print (\"Exception is : \",e)"
   ]
  },
  {
   "cell_type": "raw",
   "metadata": {},
   "source": [
    "4. What are the . and .. folders?"
   ]
  },
  {
   "cell_type": "markdown",
   "metadata": {},
   "source": [
    "<br>\n",
    "Ans.<br>\n",
    "<b>Double dots(..)</b> are used for moving up in the hierarchy(parent folder). A <b>single dot(.)</b> represents the current directory itself.<br>\n",
    "Sample code is given below.<br>"
   ]
  },
  {
   "cell_type": "code",
   "execution_count": 21,
   "metadata": {},
   "outputs": [
    {
     "name": "stdout",
     "output_type": "stream",
     "text": [
      "Changing the directory with one dot(.) D:\\desktop\\data_science_i_neuron\\assignments\\python_basic_assignment\n",
      "Changing the directory with two dots(..) gets to the previous directory D:\\desktop\\data_science_i_neuron\\assignments\n",
      "Original directory D:\\desktop\\data_science_i_neuron\\assignments\\python_basic_assignment\n"
     ]
    }
   ],
   "source": [
    "try:\n",
    "    path = os.getcwd()\n",
    "    os.chdir('.')\n",
    "    print(\"Changing the directory with one dot(.)\",os.getcwd())\n",
    "    os.chdir('..')\n",
    "    print(\"Changing the directory with two dots(..) gets to the previous directory\",os.getcwd())\n",
    "    os.chdir(path)#changing back to original directory\n",
    "    print(\"Original directory\",os.getcwd())\n",
    "except Exception as e:\n",
    "    print(\"Exeption is \",e)"
   ]
  },
  {
   "cell_type": "raw",
   "metadata": {},
   "source": [
    "5. In C:\\bacon\\eggs\\spam.txt, which part is the dir name, and which part is the base name?"
   ]
  },
  {
   "cell_type": "markdown",
   "metadata": {},
   "source": [
    "<br>\n",
    "Ans.<br>\n",
    "<b>C:\\bacon\\eggs</b> is the dir name.<br>\n",
    "<b>spam.txt</b> is the base name<br>"
   ]
  },
  {
   "cell_type": "raw",
   "metadata": {},
   "source": [
    "6. What are the three “mode” arguments that can be passed to the open() function?"
   ]
  },
  {
   "cell_type": "markdown",
   "metadata": {},
   "source": [
    "<br>\n",
    "Ans.<br>\n",
    " <b>'r'</b> for read mode, <b>'w'</b> for write mode, and <b>'a'</b> for append mode.<br>"
   ]
  },
  {
   "cell_type": "raw",
   "metadata": {},
   "source": [
    "7. What happens if an existing file is opened in write mode?"
   ]
  },
  {
   "cell_type": "markdown",
   "metadata": {},
   "source": [
    "<br>\n",
    "Ans.<br>\n",
    "The data in the file is completely erased and the file is overwritten.<br>"
   ]
  },
  {
   "cell_type": "raw",
   "metadata": {},
   "source": [
    "8. How do you tell the difference between read() and readlines()?"
   ]
  },
  {
   "cell_type": "markdown",
   "metadata": {},
   "source": [
    "<br>\n",
    "Ans.<br>\n",
    "The read() method returns the file's entire contents as a single string value. The readlines() method returns a list of strings, where each string is a line from the file's contents.<br>"
   ]
  },
  {
   "cell_type": "raw",
   "metadata": {},
   "source": [
    "9. What data structure does a shelf value resemble?"
   ]
  },
  {
   "cell_type": "markdown",
   "metadata": {},
   "source": [
    "<br>\n",
    "Ans.<br>\n",
    "A shelf value resembles a dictionary value. It has keys and values, along with keys() and values() methods that work similarly to the dictionary methods of the same names. We can get shelve by <b>import shelve</b>.<br>"
   ]
  },
  {
   "cell_type": "code",
   "execution_count": null,
   "metadata": {},
   "outputs": [],
   "source": []
  }
 ],
 "metadata": {
  "kernelspec": {
   "display_name": "Python 3",
   "language": "python",
   "name": "python3"
  },
  "language_info": {
   "codemirror_mode": {
    "name": "ipython",
    "version": 3
   },
   "file_extension": ".py",
   "mimetype": "text/x-python",
   "name": "python",
   "nbconvert_exporter": "python",
   "pygments_lexer": "ipython3",
   "version": "3.8.5"
  }
 },
 "nbformat": 4,
 "nbformat_minor": 4
}
