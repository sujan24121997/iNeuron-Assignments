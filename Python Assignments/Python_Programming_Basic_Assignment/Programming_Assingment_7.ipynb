{
 "cells": [
  {
   "cell_type": "raw",
   "metadata": {},
   "source": [
    "1.\tWrite a Python Program to find sum of array?"
   ]
  },
  {
   "cell_type": "code",
   "execution_count": 24,
   "metadata": {},
   "outputs": [
    {
     "name": "stdout",
     "output_type": "stream",
     "text": [
      "Enter the number of elements in the array : rfgedrf\n",
      "invalid literal for int() with base 10: 'rfgedrf'\n",
      "Wrong number entered!!!\n",
      "Enter the number of elements in the array : 5\n",
      "Enter the 1 number :2\n",
      "Enter the 2 number :4\n",
      "Enter the 3 number :3\n",
      "Enter the 4 number :6\n",
      "Enter the 5 number :7\n",
      "Sum of the array is : 22\n"
     ]
    }
   ],
   "source": [
    "\n",
    "while True:\n",
    "    try :\n",
    "        l = []\n",
    "        inp = int(input(\"Enter the number of elements in the array : \"))\n",
    "        for i in range(inp):\n",
    "            l.append(int(input(\"Enter the \"+str(i+1)+\" number :\")))\n",
    "        break\n",
    "    except Exception as e:\n",
    "        print(e)\n",
    "        print(\"Wrong number entered!!!\")\n",
    "print(\"Sum of the array is :\",sum(l))"
   ]
  },
  {
   "cell_type": "raw",
   "metadata": {},
   "source": [
    "2.\tWrite a Python Program to find largest element in an array?"
   ]
  },
  {
   "cell_type": "code",
   "execution_count": 25,
   "metadata": {},
   "outputs": [
    {
     "name": "stdout",
     "output_type": "stream",
     "text": [
      "Enter the number of elements in the array : dfa\n",
      "invalid literal for int() with base 10: 'dfa'\n",
      "Wrong number entered!!!\n",
      "Enter the number of elements in the array : sdf\n",
      "invalid literal for int() with base 10: 'sdf'\n",
      "Wrong number entered!!!\n",
      "Enter the number of elements in the array : 5\n",
      "Enter the 1 number :dafa\n",
      "invalid literal for int() with base 10: 'dafa'\n",
      "Wrong number entered!!!\n",
      "Enter the number of elements in the array : 5\n",
      "Enter the 1 number :2\n",
      "Enter the 2 number :24\n",
      "Enter the 3 number :32\n",
      "Enter the 4 number :1\n",
      "Enter the 5 number :56\n",
      "Largest number of the array is : 56\n"
     ]
    }
   ],
   "source": [
    "while True:\n",
    "    try :\n",
    "        l = []\n",
    "        inp = int(input(\"Enter the number of elements in the array : \"))\n",
    "        for i in range(inp):\n",
    "            l.append(int(input(\"Enter the \"+str(i+1)+\" number :\")))\n",
    "        break\n",
    "    except Exception as e:\n",
    "        print(e)\n",
    "        print(\"Wrong number entered!!!\")\n",
    "print(\"Largest number of the array is :\",max(l))"
   ]
  },
  {
   "cell_type": "raw",
   "metadata": {},
   "source": [
    "3.\tWrite a Python Program for array rotation?"
   ]
  },
  {
   "cell_type": "code",
   "execution_count": 31,
   "metadata": {},
   "outputs": [
    {
     "name": "stdout",
     "output_type": "stream",
     "text": [
      "Enter the number of elements in the array : asdfa\n",
      "invalid literal for int() with base 10: 'asdfa'\n",
      "Wrong number entered!!!\n",
      "Enter the number of elements in the array : 5\n",
      "Enter the 1 number :1\n",
      "Enter the 2 number :2\n",
      "Enter the 3 number :3\n",
      "Enter the 4 number :4\n",
      "Enter the 5 number :5\n",
      "Enter the direction in which the list of numbers have to move 1-Left and 2-Right:2\n",
      "Enter how many times should it rotate:7\n",
      "Array before rotation :  [1, 2, 3, 4, 5]\n",
      "Array after rotation :  [4, 5, 1, 2, 3]\n"
     ]
    }
   ],
   "source": [
    "\n",
    "while True:\n",
    "    try :\n",
    "        l = []\n",
    "        inp = int(input(\"Enter the number of elements in the array : \"))\n",
    "        for i in range(inp):\n",
    "            l.append(int(input(\"Enter the \"+str(i+1)+\" number :\")))\n",
    "        direc = int(input(\"Enter the direction in which the list of numbers have to move 1-Left and 2-Right:\"))\n",
    "        steps = int(input(\"Enter how many times should it rotate:\"))\n",
    "        if direc not in (1,2):\n",
    "            raise Exception('Enter the correct number')\n",
    "        break\n",
    "    except Exception as e:\n",
    "        print(e)\n",
    "        print(\"Wrong number entered!!!\")\n",
    "steps = steps%inp\n",
    "print(\"Array before rotation : \",l)\n",
    "if direc == 1:\n",
    "    print(\"Array after rotation : \",l[steps:]+l[:steps])\n",
    "elif direc == 2:\n",
    "    print(\"Array after rotation : \",l[-steps:]+l[:len(l)-steps])"
   ]
  },
  {
   "cell_type": "raw",
   "metadata": {},
   "source": [
    "4.\tWrite a Python Program to Split the array and add the first part to the end?"
   ]
  },
  {
   "cell_type": "code",
   "execution_count": 32,
   "metadata": {},
   "outputs": [
    {
     "name": "stdout",
     "output_type": "stream",
     "text": [
      "Enter the number of elements in the array : asdf\n",
      "invalid literal for int() with base 10: 'asdf'\n",
      "Wrong number entered!!!\n",
      "Enter the number of elements in the array : 5\n",
      "Enter the 1 number :1\n",
      "Enter the 2 number :2\n",
      "Enter the 3 number :3\n",
      "Enter the 4 number :4\n",
      "Enter the 5 number :5\n",
      "Enter the number of elements to be splited:3\n",
      "Array before spliting :  [1, 2, 3, 4, 5]\n",
      "Array after splitting and adding :  [4, 5, 1, 2, 3]\n"
     ]
    }
   ],
   "source": [
    "while True:\n",
    "    try :\n",
    "        l = []\n",
    "        inp = int(input(\"Enter the number of elements in the array : \"))\n",
    "        for i in range(inp):\n",
    "            l.append(int(input(\"Enter the \"+str(i+1)+\" number :\")))\n",
    "        steps = int(input(\"Enter the number of elements to be splited:\"))\n",
    "        break\n",
    "    except Exception as e:\n",
    "        print(e)\n",
    "        print(\"Wrong number entered!!!\")\n",
    "steps = steps%inp\n",
    "print(\"Array before spliting : \",l)\n",
    "print(\"Array after splitting and adding : \",l[steps:]+l[:steps])"
   ]
  },
  {
   "cell_type": "raw",
   "metadata": {},
   "source": [
    "5.\tWrite a Python Program to check if given array is Monotonic?"
   ]
  },
  {
   "cell_type": "code",
   "execution_count": 35,
   "metadata": {},
   "outputs": [
    {
     "name": "stdout",
     "output_type": "stream",
     "text": [
      "Enter the number of elements in the array : rfa\n",
      "invalid literal for int() with base 10: 'rfa'\n",
      "Wrong number entered!!!\n",
      "Enter the number of elements in the array : 5\n",
      "Enter the 1 number :5\n",
      "Enter the 2 number :4\n",
      "Enter the 3 number :3\n",
      "Enter the 4 number :2\n",
      "Enter the 5 number :1\n",
      "The array is Monotonic\n"
     ]
    }
   ],
   "source": [
    "def isMonotonic(A):\n",
    "    return (all(A[i] <= A[i + 1] for i in range(len(A) - 1)) or all(A[i] >= A[i + 1] for i in range(len(A) - 1)))\n",
    "while True:\n",
    "    try :\n",
    "        l = []\n",
    "        inp = int(input(\"Enter the number of elements in the array : \"))\n",
    "        for i in range(inp):\n",
    "            l.append(int(input(\"Enter the \"+str(i+1)+\" number :\")))\n",
    "        break\n",
    "    except Exception as e:\n",
    "        print(e)\n",
    "        print(\"Wrong number entered!!!\")\n",
    "if isMonotonic(l) == True:\n",
    "    print(\"The array is Monotonic\")\n",
    "else:\n",
    "    print(\"The array is not Monotonic\")"
   ]
  },
  {
   "cell_type": "code",
   "execution_count": null,
   "metadata": {},
   "outputs": [],
   "source": []
  }
 ],
 "metadata": {
  "kernelspec": {
   "display_name": "Python 3",
   "language": "python",
   "name": "python3"
  },
  "language_info": {
   "codemirror_mode": {
    "name": "ipython",
    "version": 3
   },
   "file_extension": ".py",
   "mimetype": "text/x-python",
   "name": "python",
   "nbconvert_exporter": "python",
   "pygments_lexer": "ipython3",
   "version": "3.8.5"
  }
 },
 "nbformat": 4,
 "nbformat_minor": 4
}
