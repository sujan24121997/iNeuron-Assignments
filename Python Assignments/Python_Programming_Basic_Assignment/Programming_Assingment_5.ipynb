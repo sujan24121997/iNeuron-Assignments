{
 "cells": [
  {
   "cell_type": "raw",
   "metadata": {},
   "source": [
    "1.\tWrite a Python Program to Find LCM?"
   ]
  },
  {
   "cell_type": "code",
   "execution_count": 5,
   "metadata": {},
   "outputs": [
    {
     "name": "stdout",
     "output_type": "stream",
     "text": [
      "Enter the 1st number : asdfd\n",
      "invalid literal for int() with base 10: 'asdfd'\n",
      "Entered values are not integers!!!\n",
      "Enter the 1st number : 4\n",
      "Enter the 2nd number : dfa\n",
      "invalid literal for int() with base 10: 'dfa'\n",
      "Entered values are not integers!!!\n",
      "Enter the 1st number : 13\n",
      "Enter the 2nd number : 16\n",
      "L.C.M of 13 and 16 is :208\n"
     ]
    }
   ],
   "source": [
    "def find_lcm(a,b):\n",
    "    if a>b:\n",
    "        g =a\n",
    "    else:\n",
    "        g = b\n",
    "    while True:\n",
    "        if (g%a==0) and (g%b==0):\n",
    "            return g\n",
    "        g+=1\n",
    "\n",
    "while True:\n",
    "    try:\n",
    "        a = int(input('Enter the 1st number : '))\n",
    "        b = int(input('Enter the 2nd number : '))\n",
    "        if type(a) ==int and type(b) ==int:\n",
    "            break\n",
    "    except Exception as e:\n",
    "        print(e)\n",
    "        print(\"Entered values are not integers!!!\")\n",
    "l = find_lcm(a,b)\n",
    "print(\"L.C.M of \"+str(a)+\" and \"+str(b)+\" is :\"+str(l))"
   ]
  },
  {
   "cell_type": "raw",
   "metadata": {},
   "source": [
    "2.\tWrite a Python Program to Find HCF?"
   ]
  },
  {
   "cell_type": "code",
   "execution_count": 10,
   "metadata": {},
   "outputs": [
    {
     "name": "stdout",
     "output_type": "stream",
     "text": [
      "Enter the 1st number : adfasdf\n",
      "invalid literal for int() with base 10: 'adfasdf'\n",
      "Entered values are not integers!!!\n",
      "Enter the 1st number : 34\n",
      "Enter the 2nd number : dsfgvd\n",
      "invalid literal for int() with base 10: 'dsfgvd'\n",
      "Entered values are not integers!!!\n",
      "Enter the 1st number : 34\n",
      "Enter the 2nd number : 54\n",
      "H.C.F of 34 and 54 is :2\n"
     ]
    }
   ],
   "source": [
    "def find_hcf(a,b):\n",
    "    if a<b:\n",
    "        s =a\n",
    "    else:\n",
    "        s = b\n",
    "    for i in range(s,0,-1):\n",
    "        if (a%i==0) and (b%i==0):\n",
    "            return i\n",
    "\n",
    "while True:\n",
    "    try:\n",
    "        a = int(input('Enter the 1st number : '))\n",
    "        b = int(input('Enter the 2nd number : '))\n",
    "        if type(a) ==int and type(b) ==int:\n",
    "            break\n",
    "    except Exception as e:\n",
    "        print(e)\n",
    "        print(\"Entered values are not integers!!!\")\n",
    "hcf = find_hcf(a,b)\n",
    "print(\"H.C.F of \"+str(a)+\" and \"+str(b)+\" is :\"+str(hcf))"
   ]
  },
  {
   "cell_type": "raw",
   "metadata": {},
   "source": [
    "3.\tWrite a Python Program to Convert Decimal to Binary, Octal and Hexadecimal?"
   ]
  },
  {
   "cell_type": "code",
   "execution_count": 14,
   "metadata": {},
   "outputs": [
    {
     "name": "stdout",
     "output_type": "stream",
     "text": [
      "Enter the number : drfgasdfa\n",
      "invalid literal for int() with base 10: 'drfgasdfa'\n",
      "Entered value is not a integer!!!\n",
      "Enter the number : 344\n",
      "Number 344 in binary is 0b101011000\n",
      "Number 344 in octal is 0o530\n",
      "Number 344 in hexadecimal is 0x158\n"
     ]
    }
   ],
   "source": [
    "while True:\n",
    "    try:\n",
    "        a = int(input('Enter the number : '))\n",
    "        if type(a) ==int:\n",
    "            break\n",
    "    except Exception as e:\n",
    "        print(e)\n",
    "        print(\"Entered value is not a integer!!!\")\n",
    "print('Number',a,'in binary is',bin(a))\n",
    "print('Number',a,'in octal is',oct(a))\n",
    "print('Number',a,'in hexadecimal is',hex(a))"
   ]
  },
  {
   "cell_type": "raw",
   "metadata": {},
   "source": [
    "4.\tWrite a Python Program To Find ASCII value of a character?"
   ]
  },
  {
   "cell_type": "code",
   "execution_count": 22,
   "metadata": {},
   "outputs": [
    {
     "name": "stdout",
     "output_type": "stream",
     "text": [
      "Enter the character : 55\n",
      "ord() expected a character, but string of length 2 found\n",
      "Entered value is not a correct character!!!\n",
      "Enter the character : A\n",
      "The ASCII value of 'A' is 65\n"
     ]
    }
   ],
   "source": [
    "while True:\n",
    "    try:\n",
    "        a = input('Enter the character : ')\n",
    "        if type(a) == str:\n",
    "            print(\"The ASCII value of '\" + a + \"' is\", ord(a))\n",
    "            break\n",
    "    except Exception as e:\n",
    "        print(e)\n",
    "        print(\"Entered value is not a correct character!!!\")\n"
   ]
  },
  {
   "cell_type": "raw",
   "metadata": {},
   "source": [
    "5.\tWrite a Python Program to Make a Simple Calculator with 4 basic mathematical operations?"
   ]
  },
  {
   "cell_type": "code",
   "execution_count": 27,
   "metadata": {},
   "outputs": [
    {
     "name": "stdout",
     "output_type": "stream",
     "text": [
      "Enter the 1st number : 5\n",
      "Enter the 2nd number : 4\n",
      "Please select operation -\n",
      " 1. Add\n",
      " 2. Subtract\n",
      " 3. Multiply\n",
      " 4. Divide\n",
      "\n",
      "Select operations form 1, 2, 3, 4 :6\n",
      "Wrong operation selcted!!!\n",
      "Enter the 1st number : asdf\n",
      "invalid literal for int() with base 10: 'asdf'\n",
      "Enter the 1st number : 1\n",
      "Enter the 2nd number : dfgs\n",
      "invalid literal for int() with base 10: 'dfgs'\n",
      "Enter the 1st number : 5\n",
      "Enter the 2nd number : 10\n",
      "Please select operation -\n",
      " 1. Add\n",
      " 2. Subtract\n",
      " 3. Multiply\n",
      " 4. Divide\n",
      "\n",
      "Select operations form 1, 2, 3, 4 :3\n",
      "5 * 10 = 50\n"
     ]
    }
   ],
   "source": [
    "while True:\n",
    "    try:\n",
    "        a = int(input('Enter the 1st number : '))\n",
    "        b = int(input('Enter the 2nd number : '))\n",
    "        print(\"Please select operation -\\n\" ,\n",
    "        \"1. Add\\n\" ,\n",
    "        \"2. Subtract\\n\" ,\n",
    "        \"3. Multiply\\n\" ,\n",
    "        \"4. Divide\\n\")\n",
    "        select = int(input(\"Select operations form 1, 2, 3, 4 :\"))\n",
    "        if select not in range(1,5):\n",
    "            raise Exception('Wrong operation selcted!!!')\n",
    "        break\n",
    "    except Exception as e:\n",
    "        print(e)\n",
    "if select == 1:\n",
    "    print(a, \"+\", b, \"=\",a+b)\n",
    "elif select == 2:\n",
    "    print(a, \"-\", b, \"=\",a-b) \n",
    "elif select == 3:\n",
    "    print(a, \"*\", b, \"=\",a*b)\n",
    "elif select == 4:\n",
    "    print(a, \"/\", b, \"=\",a/b)"
   ]
  },
  {
   "cell_type": "code",
   "execution_count": null,
   "metadata": {},
   "outputs": [],
   "source": []
  }
 ],
 "metadata": {
  "kernelspec": {
   "display_name": "Python 3",
   "language": "python",
   "name": "python3"
  },
  "language_info": {
   "codemirror_mode": {
    "name": "ipython",
    "version": 3
   },
   "file_extension": ".py",
   "mimetype": "text/x-python",
   "name": "python",
   "nbconvert_exporter": "python",
   "pygments_lexer": "ipython3",
   "version": "3.8.5"
  }
 },
 "nbformat": 4,
 "nbformat_minor": 4
}
