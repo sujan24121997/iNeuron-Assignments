{
 "cells": [
  {
   "cell_type": "raw",
   "metadata": {},
   "source": [
    "1.\tWrite a Python program to Extract Unique values dictionary values?"
   ]
  },
  {
   "cell_type": "code",
   "execution_count": 9,
   "metadata": {},
   "outputs": [
    {
     "name": "stdout",
     "output_type": "stream",
     "text": [
      "Enter the number of keys:2\n",
      "Enter the key name:asdfasd\n",
      "Enter the no. of values:4\n",
      "Enter the values:asdfa\n",
      "Enter the values:asdfasf\n",
      "Enter the values:asdfa\n",
      "Enter the values:3\n",
      "Enter the key name:dsfadf\n",
      "Enter the no. of values:3\n",
      "Enter the values:afgfsdf\n",
      "Enter the values:3\n",
      "Enter the values:3\n",
      "The dictionary is : {'asdfasd': ['asdfa', 'asdfasf', 'asdfa', '3'], 'dsfadf': ['afgfsdf', '3', '3']}\n",
      "The unique list is ['3', 'afgfsdf', 'asdfa', 'asdfasf']\n"
     ]
    }
   ],
   "source": [
    "while True:\n",
    "    try:\n",
    "        d = {}\n",
    "        n= int(input(\"Enter the number of keys:\"))\n",
    "        if n<=0:\n",
    "            raise(\"Give a valid number\")\n",
    "        for i in range(n):\n",
    "            l_val=[]\n",
    "            k_val = input(\"Enter the key name:\")\n",
    "            N = int(input(\"Enter the no. of values:\"))\n",
    "            if n<0:\n",
    "                raise(\"Enter a valid number\")\n",
    "            for j in range(N):\n",
    "                l_val.append(input(\"Enter the values:\"))\n",
    "            d[k_val] = l_val\n",
    "        break\n",
    "    except Exception as e:\n",
    "        print(\"The Exception is :\",e)\n",
    "print(\"The dictionary is :\",d)\n",
    "u_l = list(sorted(set(e for i in d.values() for e in i)))\n",
    "print(\"The unique list is\",u_l)"
   ]
  },
  {
   "cell_type": "raw",
   "metadata": {},
   "source": [
    "2.\tWrite a Python program to find the sum of all items in a dictionary?"
   ]
  },
  {
   "cell_type": "code",
   "execution_count": 10,
   "metadata": {},
   "outputs": [
    {
     "name": "stdout",
     "output_type": "stream",
     "text": [
      "Enter the number of keys:2\n",
      "Enter the key name:asdfasd\n",
      "Enter the no. of values:6\n",
      "Enter the values:1.5\n",
      "Enter the values:1\n",
      "Enter the values:-3\n",
      "Enter the values:6.5\n",
      "Enter the values:3\n",
      "Enter the values:9\n",
      "Enter the key name:adfdsaf\n",
      "Enter the no. of values:4\n",
      "Enter the values:3\n",
      "Enter the values:-2\n",
      "Enter the values:-1\n",
      "Enter the values:5\n",
      "The dictionary is : {'asdfasd': [1.5, 1.0, -3.0, 6.5, 3.0, 9.0], 'adfdsaf': [3.0, -2.0, -1.0, 5.0]}\n",
      "The sum of all the items is : 23.0\n"
     ]
    }
   ],
   "source": [
    "while True:\n",
    "    try:\n",
    "        d = {}\n",
    "        n= int(input(\"Enter the number of keys:\"))\n",
    "        if n<=0:\n",
    "            raise(\"Give a valid number\")\n",
    "        res = 0\n",
    "        for i in range(n):\n",
    "            l_val=[]\n",
    "            k_val = input(\"Enter the key name:\")\n",
    "            N = int(input(\"Enter the no. of values:\"))\n",
    "            if n<0:\n",
    "                raise(\"Enter a valid number\")\n",
    "            for j in range(N):\n",
    "                k=float(input(\"Enter the values:\"))\n",
    "                l_val.append(k)\n",
    "                res += k\n",
    "            d[k_val] = l_val\n",
    "        break\n",
    "    except Exception as e:\n",
    "        print(\"The Exception is :\",e)\n",
    "print(\"The dictionary is :\",d)\n",
    "print(\"The sum of all the items is :\",res)"
   ]
  },
  {
   "cell_type": "raw",
   "metadata": {},
   "source": [
    "3.\tWrite a Python program to Merging two Dictionaries?"
   ]
  },
  {
   "cell_type": "code",
   "execution_count": 28,
   "metadata": {},
   "outputs": [
    {
     "name": "stdout",
     "output_type": "stream",
     "text": [
      "Enter about dictionary 1\n",
      "Enter the number of keys:1\n",
      "Enter the key name:aasdfa\n",
      "Enter the no. of values:3\n",
      "Enter the values:dfsdf\n",
      "Enter the values:adfsd\n",
      "Enter the values:3\n",
      "Enter about dictionary 2\n",
      "Enter the number of keys:2\n",
      "Enter the key name:asfadf\n",
      "Enter the no. of values:3\n",
      "Enter the values:1\n",
      "Enter the values:2\n",
      "Enter the values:3\n",
      "Enter the key name:rt\n",
      "Enter the no. of values:3\n",
      "Enter the values:adsffda\n",
      "Enter the values:6\n",
      "Enter the values:5\n",
      "Dictionary1 :  {'aasdfa': ['dfsdf', 'adfsd', '3']}\n",
      "Dictionary2 :  {'asfadf': ['1', '2', '3'], 'rt': ['adsffda', '6', '5']}\n",
      "The combined dictionary is  {'aasdfa': ['dfsdf', 'adfsd', '3'], 'asfadf': ['1', '2', '3'], 'rt': ['adsffda', '6', '5']}\n"
     ]
    }
   ],
   "source": [
    "import copy\n",
    "while True:\n",
    "    try:\n",
    "        for d_no in range(2):\n",
    "            print(\"Enter about dictionary \"+str(d_no+1))\n",
    "            d = {}\n",
    "            n= int(input(\"Enter the number of keys:\"))\n",
    "            if n<=0:\n",
    "                raise(\"Give a valid number\")\n",
    "            for i in range(n):\n",
    "                l_val=[]\n",
    "                k_val = input(\"Enter the key name:\")\n",
    "                N = int(input(\"Enter the no. of values:\"))\n",
    "                if n<0:\n",
    "                    raise(\"Enter a valid number\")\n",
    "                for j in range(N):\n",
    "                    l_val.append(input(\"Enter the values:\"))\n",
    "                d[k_val] = l_val\n",
    "            if d_no == 0:\n",
    "                d1 = copy.deepcopy(d)\n",
    "            else:\n",
    "                d2 = copy.deepcopy(d)\n",
    "        break\n",
    "    except Exception as e:\n",
    "        print(\"The Exception is :\",e)\n",
    "print(\"Dictionary1 : \",d1)\n",
    "print(\"Dictionary2 : \",d2)\n",
    "res = {**d1, **d2}\n",
    "#d1.update(d2)\n",
    "print(\"The combined dictionary is \",res)"
   ]
  },
  {
   "cell_type": "raw",
   "metadata": {},
   "source": [
    "4.\tWrite a Python program to convert key-values list to flat dictionary?"
   ]
  },
  {
   "cell_type": "code",
   "execution_count": 5,
   "metadata": {},
   "outputs": [
    {
     "name": "stdout",
     "output_type": "stream",
     "text": [
      "Enter the number of keys or values:3\n",
      "Enter the key:dfdsffdds\n",
      "Enter the value:1\n",
      "Enter the key:asd\n",
      "Enter the value:2d\n",
      "Enter the key:dfgdf\n",
      "Enter the value:3\n",
      "Dictionary of list of keys and values : {'key': ['dfdsffdds', 'asd', 'dfgdf'], 'value': ['1', '2d', '3']}\n",
      "Dictionary of flattend dictionary {'dfdsffdds': '1', 'asd': '2d', 'dfgdf': '3'}\n"
     ]
    }
   ],
   "source": [
    "while True:\n",
    "    try:\n",
    "        d = {}\n",
    "        key = []\n",
    "        val = []\n",
    "        n= int(input(\"Enter the number of keys or values:\"))\n",
    "        if n<=0:\n",
    "            raise(\"Give a valid number\")\n",
    "        for i in range(n):\n",
    "            key.append(input(\"Enter the key:\"))\n",
    "            val.append(input(\"Enter the value:\"))\n",
    "        d['key'] = key[:]\n",
    "        d['value'] = val[:]\n",
    "        break\n",
    "    except Exception as e:\n",
    "        print(\"The Exception is :\",e)\n",
    "print(\"Dictionary of list of keys and values :\",d)\n",
    "res = dict(zip(d['key'], d['value']))\n",
    "print(\"Dictionary of flattend dictionary\",res)"
   ]
  },
  {
   "cell_type": "raw",
   "metadata": {},
   "source": [
    "5.\tWrite a Python program to insertion at the beginning in OrderedDict?"
   ]
  },
  {
   "cell_type": "code",
   "execution_count": 23,
   "metadata": {},
   "outputs": [
    {
     "name": "stdout",
     "output_type": "stream",
     "text": [
      "Enter the number of values to be entered:3\n",
      "Enter the name:sujan\n",
      "Enter the value:1\n",
      "Enter the name:rakesh\n",
      "Enter the value:2\n",
      "Enter the name:dinesh\n",
      "Enter the value:3\n",
      "Ordered dictionary without entering data OrderedDict([('sujan', '1'), ('rakesh', '2'), ('dinesh', '3')])\n",
      "Enter the new name:zoviya\n",
      "Enter the new value:5\n",
      "Resultant Dictionary : OrderedDict([('zoviya', '5'), ('sujan', '1'), ('rakesh', '2'), ('dinesh', '3')])\n"
     ]
    }
   ],
   "source": [
    "from collections import OrderedDict\n",
    "while True:\n",
    "    try:\n",
    "        l = []\n",
    "        n= int(input(\"Enter the number of values to be entered:\"))\n",
    "        if n<=0:\n",
    "            raise(\"Give a valid number\")\n",
    "        for i in range(n):\n",
    "            inl = []\n",
    "            inl.append(input(\"Enter the name:\"))\n",
    "            inl.append(input(\"Enter the value:\"))\n",
    "            l.append(tuple(inl))\n",
    "        break\n",
    "    except Exception as e:\n",
    "        print(\"The Exception is :\",e)\n",
    "iniordered_dict = OrderedDict(l)\n",
    "print(\"Ordered dictionary without entering data\",iniordered_dict)\n",
    "new_name = input(\"Enter the new name:\")\n",
    "new_val = input(\"Enter the new value:\")\n",
    "iniordered_dict.update({new_name:new_val})\n",
    "iniordered_dict.move_to_end(new_name, last = False)\n",
    "print (\"Resultant Dictionary : \"+str(iniordered_dict))"
   ]
  },
  {
   "cell_type": "raw",
   "metadata": {},
   "source": [
    "6.\tWrite a Python program to check order of character in string using OrderedDict()?"
   ]
  },
  {
   "cell_type": "code",
   "execution_count": 46,
   "metadata": {},
   "outputs": [
    {
     "name": "stdout",
     "output_type": "stream",
     "text": [
      "Enter the input string:engineers rock\n",
      "Enter the pattern:er\n",
      "Pattern Found\n"
     ]
    }
   ],
   "source": [
    "# Assumption:  there won’t be any duplicate characters in the pattern.\n",
    "from collections import OrderedDict\n",
    "def pattern_match(inp,pattern):\n",
    "    dic = OrderedDict.fromkeys(inp)\n",
    "    leng= 0\n",
    "    for key,values in dic.items():\n",
    "        if(key == pattern[leng]):\n",
    "            leng+=1\n",
    "        if (leng == len(pattern)):\n",
    "            return True\n",
    "    return False\n",
    "\n",
    "while True:\n",
    "    try:\n",
    "        inp= input(\"Enter the input string:\")\n",
    "        pattern = input(\"Enter the pattern:\")\n",
    "        break\n",
    "    except Exception as e:\n",
    "        print(\"The Exception is :\",e)\n",
    "    \n",
    "res = pattern_match(inp,pattern)\n",
    "if res:\n",
    "    print(\"Pattern Found\")\n",
    "else:\n",
    "    print(\"Pattern Not found\")"
   ]
  },
  {
   "cell_type": "raw",
   "metadata": {},
   "source": [
    "7.\tWrite a Python program to sort Python Dictionaries by Key or Value?"
   ]
  },
  {
   "cell_type": "code",
   "execution_count": 94,
   "metadata": {},
   "outputs": [
    {
     "name": "stdout",
     "output_type": "stream",
     "text": [
      "Enter the number of keys:5\n",
      "Enter the key name:sujan\n",
      "Enter the value:1\n",
      "Enter the key name:rakesh\n",
      "Enter the value:2\n",
      "Enter the key name:dinesh\n",
      "Enter the value:3\n",
      "Enter the key name:raghav\n",
      "Enter the value:4\n",
      "Enter the key name:sumanesh\n",
      "Enter the value:1\n",
      "Enter 1- to sort with key and 2- to sort with value:1\n",
      "The dictionary is : {'sujan': '1', 'rakesh': '2', 'dinesh': '3', 'raghav': '4', 'sumanesh': '1'}\n",
      "The sorted dictionary is : {'dinesh': '3', 'raghav': '4', 'rakesh': '2', 'sujan': '1', 'sumanesh': '1'}\n"
     ]
    }
   ],
   "source": [
    "def get_sorted_dic(d,k_v):\n",
    "    if k_v == 1:\n",
    "        ouput_dic={k: v for k, v in sorted(d.items(), key=lambda item: item[0])}\n",
    "    elif k_v == 2:\n",
    "        ouput_dic={k: v for k, v in sorted(d.items(), key=lambda item: item[1])}\n",
    "    return ouput_dic\n",
    "\n",
    "while True:\n",
    "    try:\n",
    "        d = {}\n",
    "        n= int(input(\"Enter the number of keys:\"))\n",
    "        if n<=0:\n",
    "            raise(\"Give a valid number\")\n",
    "        for i in range(n):\n",
    "            l_val=[]\n",
    "            k_val = input(\"Enter the key name:\")\n",
    "            l_val = input(\"Enter the value:\")\n",
    "            d[k_val] = l_val\n",
    "        k_v = int(input(\"Enter 1- to sort with key and 2- to sort with value:\"))\n",
    "        if k_v not in (1,2):\n",
    "                raise(\"Enter valid value.\")\n",
    "        break\n",
    "    except Exception as e:\n",
    "        print(\"The Exception is :\",e)\n",
    "print(\"The dictionary is :\",d)\n",
    "out = get_sorted_dic(d,k_v)\n",
    "print(\"The sorted dictionary is :\",out)"
   ]
  },
  {
   "cell_type": "code",
   "execution_count": 84,
   "metadata": {},
   "outputs": [],
   "source": []
  },
  {
   "cell_type": "code",
   "execution_count": 63,
   "metadata": {},
   "outputs": [],
   "source": []
  }
 ],
 "metadata": {
  "kernelspec": {
   "display_name": "Python 3",
   "language": "python",
   "name": "python3"
  },
  "language_info": {
   "codemirror_mode": {
    "name": "ipython",
    "version": 3
   },
   "file_extension": ".py",
   "mimetype": "text/x-python",
   "name": "python",
   "nbconvert_exporter": "python",
   "pygments_lexer": "ipython3",
   "version": "3.8.5"
  }
 },
 "nbformat": 4,
 "nbformat_minor": 4
}
