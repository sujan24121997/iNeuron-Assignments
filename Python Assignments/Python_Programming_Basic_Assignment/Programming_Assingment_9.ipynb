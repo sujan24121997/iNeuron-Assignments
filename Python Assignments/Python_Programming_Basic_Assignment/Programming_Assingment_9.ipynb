{
 "cells": [
  {
   "cell_type": "raw",
   "metadata": {},
   "source": [
    "1.\tWrite a Python program to check if the given number is a Disarium Number?"
   ]
  },
  {
   "cell_type": "code",
   "execution_count": 12,
   "metadata": {},
   "outputs": [
    {
     "name": "stdout",
     "output_type": "stream",
     "text": [
      "Enter the number :sdfadsf\n",
      "invalid literal for int() with base 10: 'sdfadsf'\n",
      "Wrong number entered!!!\n",
      "Enter the number :89\n",
      "89 is a Disarium Number\n"
     ]
    }
   ],
   "source": [
    "while True:\n",
    "    try :\n",
    "        inp = int(input(\"Enter the number :\"))\n",
    "        if inp < 1:\n",
    "            raise Exception()\n",
    "        break\n",
    "    except Exception as e:\n",
    "        print(e)\n",
    "        print(\"Wrong number entered!!!\")\n",
    "length = len(str(inp))\n",
    "temp_inp=inp\n",
    "res = 0\n",
    "while length > 0 :\n",
    "    temp = inp%10\n",
    "    res = res+(temp**length)\n",
    "    inp = inp//10\n",
    "    length -= 1\n",
    "if (temp_inp == res):\n",
    "    print(str(temp_inp)+\" is a Disarium Number\")\n",
    "else:\n",
    "    print(str(temp_inp)+\" is not a Disarium Number\")"
   ]
  },
  {
   "cell_type": "raw",
   "metadata": {},
   "source": [
    "2.\tWrite a Python program to print all disarium numbers between 1 to 100?"
   ]
  },
  {
   "cell_type": "code",
   "execution_count": 18,
   "metadata": {},
   "outputs": [
    {
     "name": "stdout",
     "output_type": "stream",
     "text": [
      "List of disarium numbers between 1 to 100 is : [1, 2, 3, 4, 5, 6, 7, 8, 9, 89]\n"
     ]
    }
   ],
   "source": [
    "def is_disarium(inp):\n",
    "    length = len(str(inp))\n",
    "    temp_inp=inp\n",
    "    res = 0\n",
    "    while length > 0 :\n",
    "        temp = inp%10\n",
    "        res = res+(temp**length)\n",
    "        inp = inp//10\n",
    "        length -= 1\n",
    "    if (temp_inp == res):\n",
    "        return True\n",
    "    else:\n",
    "        return False\n",
    "\n",
    "l = []\n",
    "for i in range(1,101): #took the number between 1 to 100(i.e., include 1 and 100)\n",
    "    b = is_disarium(i)\n",
    "    if b == True :\n",
    "        l.append(i)\n",
    "print(\"List of disarium numbers between 1 to 100 is :\",l)"
   ]
  },
  {
   "cell_type": "raw",
   "metadata": {},
   "source": [
    "3.\tWrite a Python program to check if the given number is Happy Number?"
   ]
  },
  {
   "cell_type": "code",
   "execution_count": 16,
   "metadata": {},
   "outputs": [
    {
     "name": "stdout",
     "output_type": "stream",
     "text": [
      "Enter the number :adsfdsaf\n",
      "invalid literal for int() with base 10: 'adsfdsaf'\n",
      "Wrong number entered!!!\n",
      "Enter the number :-5\n",
      "\n",
      "Wrong number entered!!!\n",
      "Enter the number :5\n",
      "4 is a not a Happy number.\n"
     ]
    }
   ],
   "source": [
    "def find_happy(n):\n",
    "    res = 0\n",
    "    for i in str(n):\n",
    "        res += int(i)**2\n",
    "    return res\n",
    "\n",
    "while True:\n",
    "    try :\n",
    "        inp = int(input(\"Enter the number :\"))\n",
    "        if inp < 1:\n",
    "            raise Exception()\n",
    "        break\n",
    "    except Exception as e:\n",
    "        print(e)\n",
    "        print(\"Wrong number entered!!!\")\n",
    "get_num = inp\n",
    "while get_num != 4 and get_num !=1:\n",
    "    get_num = find_happy(get_num)\n",
    "if get_num == 1:\n",
    "    print(str(get_num)+\" is a Happy number.\")\n",
    "elif get_num == 4:\n",
    "    print(str(get_num)+\" is a not a Happy number.\")"
   ]
  },
  {
   "cell_type": "raw",
   "metadata": {},
   "source": [
    "4.\tWrite a Python program to print all happy numbers between 1 and 100?"
   ]
  },
  {
   "cell_type": "code",
   "execution_count": 20,
   "metadata": {},
   "outputs": [
    {
     "name": "stdout",
     "output_type": "stream",
     "text": [
      "List of happy numbers between 1 to 100 is : [1, 7, 10, 13, 19, 23, 28, 31, 32, 44, 49, 68, 70, 79, 82, 86, 91, 94, 97, 100]\n"
     ]
    }
   ],
   "source": [
    "def find_happy(n):\n",
    "    res = 0\n",
    "    for i in str(n):\n",
    "        res += int(i)**2\n",
    "    return res\n",
    "\n",
    "def is_happy(inp):\n",
    "    get_num = inp\n",
    "    while get_num != 4 and get_num !=1:\n",
    "        get_num = find_happy(get_num)\n",
    "    if get_num == 1:\n",
    "        return True\n",
    "    elif get_num == 4:\n",
    "        return False\n",
    "\n",
    "l = []\n",
    "for i in range(1,101): #took the number between 1 to 100(i.e., include 1 and 100)\n",
    "    b = is_happy(i)\n",
    "    if b == True :\n",
    "        l.append(i)\n",
    "print(\"List of happy numbers between 1 to 100 is :\",l)"
   ]
  },
  {
   "cell_type": "raw",
   "metadata": {},
   "source": [
    "5.\tWrite a Python program to determine whether the given number is a Harshad Number?"
   ]
  },
  {
   "cell_type": "code",
   "execution_count": 20,
   "metadata": {},
   "outputs": [
    {
     "name": "stdout",
     "output_type": "stream",
     "text": [
      "Enter the number :dfadfa\n",
      "invalid literal for int() with base 10: 'dfadfa'\n",
      "Wrong number entered!!!\n",
      "Enter the number :-1\n",
      "\n",
      "Wrong number entered!!!\n",
      "Enter the number :asfd0\n",
      "invalid literal for int() with base 10: 'asfd0'\n",
      "Wrong number entered!!!\n",
      "Enter the number :0\n",
      "\n",
      "Wrong number entered!!!\n",
      "Enter the number :190\n",
      "190 is a Harshad Number.\n"
     ]
    }
   ],
   "source": [
    "while True:\n",
    "    try :\n",
    "        inp = int(input(\"Enter the number :\"))\n",
    "        if inp < 1:\n",
    "            raise Exception()\n",
    "        break\n",
    "    except Exception as e:\n",
    "        print(e)\n",
    "        print(\"Wrong number entered!!!\")\n",
    "res = 0\n",
    "for i in str(inp):\n",
    "    res+=int(i)\n",
    "if (inp%res==0):\n",
    "    print(str(inp)+\" is a Harshad Number.\")\n",
    "else:\n",
    "    print(str(inp)+\" is not a harshad Number.\")"
   ]
  },
  {
   "cell_type": "raw",
   "metadata": {},
   "source": [
    "6.\tWrite a Python program to print all pronic numbers between 1 and 100?"
   ]
  },
  {
   "cell_type": "code",
   "execution_count": 21,
   "metadata": {},
   "outputs": [
    {
     "name": "stdout",
     "output_type": "stream",
     "text": [
      "List of pronic numbers between 1 to 100 is : [2, 6, 12, 20, 30, 42, 56, 72, 90]\n"
     ]
    }
   ],
   "source": [
    "def is_pronic(n):\n",
    "    for i in range(1,n+1):\n",
    "        if ((i*(i+1)) == n):\n",
    "            return True\n",
    "            break\n",
    "    return False\n",
    "l = []\n",
    "for i in range(1,101): #took the number between 1 to 100(i.e., include 1 and 100)\n",
    "    if is_pronic(i) == True:\n",
    "        l.append(i)\n",
    "print(\"List of pronic numbers between 1 to 100 is :\",l)"
   ]
  },
  {
   "cell_type": "code",
   "execution_count": null,
   "metadata": {},
   "outputs": [],
   "source": []
  }
 ],
 "metadata": {
  "kernelspec": {
   "display_name": "Python 3",
   "language": "python",
   "name": "python3"
  },
  "language_info": {
   "codemirror_mode": {
    "name": "ipython",
    "version": 3
   },
   "file_extension": ".py",
   "mimetype": "text/x-python",
   "name": "python",
   "nbconvert_exporter": "python",
   "pygments_lexer": "ipython3",
   "version": "3.8.5"
  }
 },
 "nbformat": 4,
 "nbformat_minor": 4
}
