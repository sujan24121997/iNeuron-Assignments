{
 "cells": [
  {
   "cell_type": "raw",
   "metadata": {},
   "source": [
    "1.\tWrite a Python program to find words which are greater than given length k?"
   ]
  },
  {
   "cell_type": "code",
   "execution_count": 7,
   "metadata": {},
   "outputs": [
    {
     "name": "stdout",
     "output_type": "stream",
     "text": [
      "Enter the number of words:5\n",
      "Enter the 1 word:sdfasfadsfdasf\n",
      "Enter the 2 word:adfasd\n",
      "Enter the 3 word:asdsdf\n",
      "Enter the 4 word:asfewdas\n",
      "Enter the 5 word:asdffrwds\n",
      "Enter the min. limit of length of the words to be present: 6\n",
      "List of words greater than length of  6  are:  ['sdfasfadsfdasf', 'asfewdas', 'asdffrwds']\n",
      "List of words less than or equal to length of  6  are:  ['adfasd', 'asdsdf']\n"
     ]
    }
   ],
   "source": [
    "while True:\n",
    "    try:\n",
    "        n= int(input(\"Enter the number of words:\"))\n",
    "        if n<=0:\n",
    "            raise(\"Give a valid number\")\n",
    "        l=[]\n",
    "        for i in range(n):\n",
    "            l.append(input(\"Enter the \"+str(i+1)+\" word:\"))\n",
    "        k=int(input(\"Enter the min. limit of length of the words to be present: \"))\n",
    "        if k<0:\n",
    "            raise(\"Give a valid number\")\n",
    "        break\n",
    "    except Exception as e:\n",
    "        print(\"The Exception is :\",e)\n",
    "words_lt_k = []\n",
    "words_gt_k = []\n",
    "for i in range(n):\n",
    "    if len(l[i]) > k:\n",
    "        words_gt_k.append(l[i])\n",
    "    else:\n",
    "        words_lt_k.append(l[i])\n",
    "print(\"List of words greater than length of \",k,\" are: \",words_gt_k)\n",
    "print(\"List of words less than or equal to length of \",k,\" are: \",words_lt_k)"
   ]
  },
  {
   "cell_type": "raw",
   "metadata": {},
   "source": [
    "2.\tWrite a Python program for removing i-th character from a string?"
   ]
  },
  {
   "cell_type": "code",
   "execution_count": 15,
   "metadata": {},
   "outputs": [
    {
     "name": "stdout",
     "output_type": "stream",
     "text": [
      "Enter the String:dsfadfadf\n",
      "Enter the index of the character to be removed(consider index starting from 0): 4\n",
      "String before removing the index  4 : dsfadfadf\n",
      "String after removing the index  4 : dsfafadf\n"
     ]
    }
   ],
   "source": [
    "while True:\n",
    "    try:\n",
    "        string= input(\"Enter the String:\")\n",
    "        k=int(input(\"Enter the index of the character to be removed(consider index starting from 0): \"))\n",
    "        if k<0:\n",
    "            raise(\"Give a valid number\")\n",
    "        break\n",
    "    except Exception as e:\n",
    "        print(\"The Exception is :\",e)\n",
    "print(\"String before removing the index \",k,\":\",string)\n",
    "new_str = string[:k]+string[k+1:]\n",
    "print(\"String after removing the index \",k,\":\",new_str)"
   ]
  },
  {
   "cell_type": "raw",
   "metadata": {},
   "source": [
    "3.\tWrite a Python program to split and join a string?"
   ]
  },
  {
   "cell_type": "code",
   "execution_count": 7,
   "metadata": {},
   "outputs": [
    {
     "name": "stdout",
     "output_type": "stream",
     "text": [
      "Enter the String(atleast two words): asdfd     sdfdfdf   dff  ddsfdf dfdfd       \n",
      "String before splitting :   asdfd     sdfdfdf   dff  ddsfdf dfdfd       \n",
      "String splitted into a list of words :  ['asdfd', 'sdfdfdf', 'dff', 'ddsfdf', 'dfdfd']\n",
      "String joining with '@' symbol between words: asdfd@sdfdfdf@dff@ddsfdf@dfdfd\n"
     ]
    }
   ],
   "source": [
    "#Note the spaces given before and after the string are not considered and if we give more than one space also it takes as one space only \n",
    "#if we want them to be also shown up keep the commented logic in the programme and comment the existing logic for split. \n",
    "while True:\n",
    "    try:\n",
    "        string= input(\"Enter the String(atleast two words):\")\n",
    "        if string.find(' ') == -1:\n",
    "            raise(\"Give a valid string\")\n",
    "        break\n",
    "    except Exception as e:\n",
    "        print(\"The Exception is :\",e)\n",
    "print(\"String before splitting : \",string)\n",
    "l = string.split()\n",
    "#l = string.split(' ')\n",
    "print(\"String splitted into a list of words : \",l)\n",
    "new_s = '@'.join(l)\n",
    "print(\"String joining with '@' symbol between words:\",new_s)"
   ]
  },
  {
   "cell_type": "raw",
   "metadata": {},
   "source": [
    "4.\tWrite a Python to check if a given string is binary string or not?"
   ]
  },
  {
   "cell_type": "code",
   "execution_count": 19,
   "metadata": {},
   "outputs": [
    {
     "name": "stdout",
     "output_type": "stream",
     "text": [
      "Enter the String:1010101010\n",
      "It is a binary string\n"
     ]
    }
   ],
   "source": [
    "while True:\n",
    "    try:\n",
    "        string= input(\"Enter the String:\")\n",
    "        break\n",
    "    except Exception as e:\n",
    "        print(\"The Exception is :\",e)\n",
    "s = {'0','1'}\n",
    "set_str = set(string)\n",
    "if s == set_str or set_str == {'0'} or set_str == {'1'}:\n",
    "    print(\"It is a binary string\")\n",
    "else:\n",
    "    print(\"It is not a binary string\")"
   ]
  },
  {
   "cell_type": "raw",
   "metadata": {},
   "source": [
    "5.\tWrite a Python program to find uncommon words from two Strings?"
   ]
  },
  {
   "cell_type": "code",
   "execution_count": 38,
   "metadata": {},
   "outputs": [
    {
     "name": "stdout",
     "output_type": "stream",
     "text": [
      "Enter the String1:sujan sri sri vardhan\n",
      "Enter the String2:sujan\n",
      "{'sujan': 2, 'sri': 2, 'vardhan': 1}\n",
      "List of uncommon words are: ['vardhan']\n"
     ]
    }
   ],
   "source": [
    "#uncommon words :A word is uncommon if it appears exactly once in any one of the sentences, and does not appear in the \n",
    "#other sentence.\n",
    "#method1\n",
    "while True:\n",
    "    try:\n",
    "        string1= input(\"Enter the String1:\")\n",
    "        string2= input(\"Enter the String2:\")\n",
    "        break\n",
    "    except Exception as e:\n",
    "        print(\"The Exception is :\",e)\n",
    "dic = {}\n",
    "for i in string1.split():\n",
    "    dic[i] = dic.get(i,0)+1\n",
    "for i in string2.split():\n",
    "    dic[i] = dic.get(i,0)+1\n",
    "print(dic)\n",
    "l = [word for word in dic if dic[word] == 1 ]\n",
    "print(\"List of uncommon words are:\",l)\n",
    "# Note if we need to get the words which are not in other sentence even if they are more than one we can keep set(string.split()). "
   ]
  },
  {
   "cell_type": "raw",
   "metadata": {},
   "source": [
    "6.\tWrite a Python to find all duplicate characters in string?"
   ]
  },
  {
   "cell_type": "code",
   "execution_count": 43,
   "metadata": {},
   "outputs": [
    {
     "name": "stdout",
     "output_type": "stream",
     "text": [
      "Enter the String:sujan sri vardhan\n",
      "The duplicate characters are :  ['s', 'a', 'n', 'r']\n"
     ]
    }
   ],
   "source": [
    "while True:\n",
    "    try:\n",
    "        string= input(\"Enter the String:\")\n",
    "        break\n",
    "    except Exception as e:\n",
    "        print(\"The Exception is :\",e)\n",
    "dic = {}\n",
    "lst = []\n",
    "for i in string:\n",
    "    if i not in ' ': \n",
    "        dic[i] = dic.get(i,0)+1\n",
    "for i in dic:\n",
    "    if dic[i] > 1:\n",
    "        lst.append(i)\n",
    "print(\"The duplicate characters are : \",lst)#didn't consider space as a character. "
   ]
  },
  {
   "cell_type": "raw",
   "metadata": {},
   "source": [
    "7.\tWrite a Python Program to check if a string contains any special character?"
   ]
  },
  {
   "cell_type": "code",
   "execution_count": 48,
   "metadata": {},
   "outputs": [
    {
     "name": "stdout",
     "output_type": "stream",
     "text": [
      "Enter the String:sujan@n\n",
      "String has special characters\n"
     ]
    }
   ],
   "source": [
    "import re\n",
    "while True:\n",
    "    try:\n",
    "        string= input(\"Enter the String:\")\n",
    "        break\n",
    "    except Exception as e:\n",
    "        print(\"The Exception is :\",e)\n",
    "regex = re.compile('[@_!#$%^&*()<>?/\\|}{~:]')\n",
    "if(regex.search(string) == None):\n",
    "        print(\"String has no special characters\")\n",
    "else:\n",
    "    print(\"String has special characters\")"
   ]
  },
  {
   "cell_type": "code",
   "execution_count": null,
   "metadata": {},
   "outputs": [],
   "source": []
  }
 ],
 "metadata": {
  "kernelspec": {
   "display_name": "Python 3",
   "language": "python",
   "name": "python3"
  },
  "language_info": {
   "codemirror_mode": {
    "name": "ipython",
    "version": 3
   },
   "file_extension": ".py",
   "mimetype": "text/x-python",
   "name": "python",
   "nbconvert_exporter": "python",
   "pygments_lexer": "ipython3",
   "version": "3.8.5"
  }
 },
 "nbformat": 4,
 "nbformat_minor": 4
}
