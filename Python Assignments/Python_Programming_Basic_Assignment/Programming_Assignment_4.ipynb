{
 "cells": [
  {
   "cell_type": "raw",
   "metadata": {},
   "source": [
    "1.\tWrite a Python Program to Find the Factorial of a Number?"
   ]
  },
  {
   "cell_type": "code",
   "execution_count": 4,
   "metadata": {},
   "outputs": [
    {
     "name": "stdout",
     "output_type": "stream",
     "text": [
      "Enter the number : dsfdf\n",
      "invalid literal for int() with base 10: 'dsfdf'\n",
      "Wrong number entered!!!\n",
      "Enter the number : 10\n",
      "Factorial of  number  10  is  3628800\n"
     ]
    }
   ],
   "source": [
    "def fact(n):\n",
    "    if n == 1:\n",
    "        return 1\n",
    "    else:\n",
    "        return n*fact(n-1)\n",
    "while True:\n",
    "    try :\n",
    "        inp = int(input(\"Enter the number : \"))\n",
    "        break\n",
    "    except Exception as e:\n",
    "        print(e)\n",
    "        print(\"Wrong number entered!!!\")\n",
    "        continue\n",
    "res = fact(inp)\n",
    "print(\"Factorial of  number \",inp,\" is \",res)"
   ]
  },
  {
   "cell_type": "raw",
   "metadata": {},
   "source": [
    "2.\tWrite a Python Program to Display the multiplication Table?"
   ]
  },
  {
   "cell_type": "code",
   "execution_count": 5,
   "metadata": {},
   "outputs": [
    {
     "name": "stdout",
     "output_type": "stream",
     "text": [
      "Enter the number : asdfa\n",
      "invalid literal for int() with base 10: 'asdfa'\n",
      "Wrong number entered!!!\n",
      "Enter the number : 3\n",
      "3  x  1  =  3\n",
      "3  x  2  =  6\n",
      "3  x  3  =  9\n",
      "3  x  4  =  12\n",
      "3  x  5  =  15\n",
      "3  x  6  =  18\n",
      "3  x  7  =  21\n",
      "3  x  8  =  24\n",
      "3  x  9  =  27\n",
      "3  x  10  =  30\n"
     ]
    }
   ],
   "source": [
    "while True:\n",
    "    try :\n",
    "        inp = int(input(\"Enter the number : \"))\n",
    "        break\n",
    "    except Exception as e:\n",
    "        print(e)\n",
    "        print(\"Wrong number entered!!!\")\n",
    "for i in range(10):\n",
    "    print(inp,' x ',i+1,' = ',inp*(i+1))"
   ]
  },
  {
   "cell_type": "raw",
   "metadata": {},
   "source": [
    "3.\tWrite a Python Program to Print the Fibonacci sequence?"
   ]
  },
  {
   "cell_type": "code",
   "execution_count": 10,
   "metadata": {},
   "outputs": [
    {
     "name": "stdout",
     "output_type": "stream",
     "text": [
      "Enter the number : sdfa\n",
      "invalid literal for int() with base 10: 'sdfa'\n",
      "Wrong number entered!!!\n",
      "Enter the number : 10\n",
      "Fibonacci sequence :  0 1 1 2 3 5 8 13 21 34 "
     ]
    }
   ],
   "source": [
    "while True:\n",
    "    try :\n",
    "        inp = int(input(\"Enter the number : \"))\n",
    "        break\n",
    "    except Exception as e:\n",
    "        print(e)\n",
    "        print(\"Wrong number entered!!!\")\n",
    "a=0\n",
    "b=1\n",
    "count = 1\n",
    "print(\"Fibonacci sequence : \",end = ' ')\n",
    "while count<=inp :\n",
    "    print(a,end = ' ')\n",
    "    a,b = b ,a+b\n",
    "    count+=1"
   ]
  },
  {
   "cell_type": "raw",
   "metadata": {},
   "source": [
    "4.\tWrite a Python Program to Check Armstrong Number?"
   ]
  },
  {
   "cell_type": "code",
   "execution_count": 17,
   "metadata": {},
   "outputs": [
    {
     "name": "stdout",
     "output_type": "stream",
     "text": [
      "Enter the number : dfadfas\n",
      "invalid literal for int() with base 10: 'dfadfas'\n",
      "Wrong number entered!!!\n",
      "Enter the number : 1634\n",
      "1634  is a amstrong number.\n"
     ]
    }
   ],
   "source": [
    "#Method1\n",
    "while True:\n",
    "    try :\n",
    "        inp = int(input(\"Enter the number : \"))\n",
    "        break\n",
    "    except Exception as e:\n",
    "        print(e)\n",
    "        print(\"Wrong number entered!!!\")\n",
    "n = len(str(inp))\n",
    "temp = inp\n",
    "res =0\n",
    "c = 0\n",
    "while temp >  0:\n",
    "    temp1 = temp%10\n",
    "    res += temp1**n\n",
    "    temp = int(temp/10)\n",
    "    c +=1\n",
    "if res == inp :\n",
    "    print(inp,\" is a amstrong number.\")\n",
    "else :\n",
    "    print(inp,\" is not a amstrong number.\")"
   ]
  },
  {
   "cell_type": "code",
   "execution_count": 19,
   "metadata": {},
   "outputs": [
    {
     "name": "stdout",
     "output_type": "stream",
     "text": [
      "Enter the number : sfsgsdgfrs\n",
      "invalid literal for int() with base 10: 'sfsgsdgfrs'\n",
      "Wrong number entered!!!\n",
      "Enter the number : 371\n",
      "371  is a amstrong number.\n"
     ]
    }
   ],
   "source": [
    "#Method2\n",
    "while True:\n",
    "    try :\n",
    "        inp = int(input(\"Enter the number : \"))\n",
    "        break\n",
    "    except Exception as e:\n",
    "        print(e)\n",
    "        print(\"Wrong number entered!!!\")\n",
    "num = str(inp)\n",
    "res = 0\n",
    "for i in num:\n",
    "    res += int(i)**len(num)\n",
    "if res == inp :\n",
    "    print(inp,\" is a amstrong number.\")\n",
    "else :\n",
    "    print(inp,\" is not a amstrong number.\")"
   ]
  },
  {
   "cell_type": "raw",
   "metadata": {},
   "source": [
    "5.\tWrite a Python Program to Find Armstrong Number in an Interval?"
   ]
  },
  {
   "cell_type": "code",
   "execution_count": 24,
   "metadata": {},
   "outputs": [
    {
     "name": "stdout",
     "output_type": "stream",
     "text": [
      "Enter the start number of the range : adsfasdfa\n",
      "invalid literal for int() with base 10: 'adsfasdfa'\n",
      "Wrong number entered!!!\n",
      "Enter the start number of the range : -500\n",
      "Enter the end number of the range : 500\n",
      "Incorrect numbers!!!\n",
      "Numbers should be positive\n",
      "Enter the start number of the range : 0\n",
      "Enter the end number of the range : 500\n",
      "list of amstrong numbers in range[ 0 , 500 ] : [1, 2, 3, 4, 5, 6, 7, 8, 9, 153, 370, 371, 407]\n"
     ]
    }
   ],
   "source": [
    "while True:\n",
    "    try :\n",
    "        inp1 = int(input(\"Enter the start number of the range : \"))\n",
    "        inp2 = int(input(\"Enter the end number of the range : \"))\n",
    "        if inp1 > inp2:\n",
    "            print(\"Incorrect range\")\n",
    "            print(\"Enter the start number smaller than end number\")\n",
    "            continue\n",
    "        if inp1 < 0 or inp2 < 0:\n",
    "            print(\"Incorrect numbers!!!\")\n",
    "            print(\"Numbers should be positive\")\n",
    "            continue\n",
    "        break\n",
    "    except Exception as e:\n",
    "        print(e)\n",
    "        print(\"Wrong number entered!!!\")\n",
    "l = []\n",
    "for inp in range(inp1+1,inp2):\n",
    "    num = str(inp)\n",
    "    res = 0\n",
    "    for i in num:\n",
    "        res += int(i)**len(num)\n",
    "    if res == inp :\n",
    "        l.append(res)\n",
    "print(\"list of amstrong numbers in range[\",inp1,\",\",inp2,\"] :\",l)"
   ]
  },
  {
   "cell_type": "raw",
   "metadata": {},
   "source": [
    "6.\tWrite a Python Program to Find the Sum of Natural Numbers?"
   ]
  },
  {
   "cell_type": "code",
   "execution_count": 27,
   "metadata": {},
   "outputs": [
    {
     "name": "stdout",
     "output_type": "stream",
     "text": [
      "Enter the number: srfdefa\n",
      "invalid literal for int() with base 10: 'srfdefa'\n",
      "Wrong number entered!!!\n",
      "Enter the number: -20\n",
      "Incorrect number!!!\n",
      "Numbers should be positive number.\n",
      "Enter the number: 100\n",
      "Sum of the  100  natural numbers is  5050\n"
     ]
    }
   ],
   "source": [
    "while True:\n",
    "    try :\n",
    "        inp = int(input(\"Enter the number: \"))\n",
    "        if inp <= 0 :\n",
    "            print(\"Incorrect number!!!\")\n",
    "            print(\"Numbers should be positive number.\")\n",
    "            continue\n",
    "        break\n",
    "    except Exception as e:\n",
    "        print(e)\n",
    "        print(\"Wrong number entered!!!\")\n",
    "print(\"Sum of the \",inp,\" natural numbers is \",int((inp*(inp+1))/2))"
   ]
  },
  {
   "cell_type": "code",
   "execution_count": null,
   "metadata": {},
   "outputs": [],
   "source": []
  }
 ],
 "metadata": {
  "kernelspec": {
   "display_name": "Python 3",
   "language": "python",
   "name": "python3"
  },
  "language_info": {
   "codemirror_mode": {
    "name": "ipython",
    "version": 3
   },
   "file_extension": ".py",
   "mimetype": "text/x-python",
   "name": "python",
   "nbconvert_exporter": "python",
   "pygments_lexer": "ipython3",
   "version": "3.8.5"
  }
 },
 "nbformat": 4,
 "nbformat_minor": 4
}
