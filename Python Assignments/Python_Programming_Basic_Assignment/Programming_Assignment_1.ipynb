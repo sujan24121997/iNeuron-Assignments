{
 "cells": [
  {
   "cell_type": "raw",
   "metadata": {},
   "source": [
    "1. Write a Python program to print \"Hello Python\"?"
   ]
  },
  {
   "cell_type": "code",
   "execution_count": 2,
   "metadata": {},
   "outputs": [
    {
     "name": "stdout",
     "output_type": "stream",
     "text": [
      "\"Hello Python\"\n"
     ]
    }
   ],
   "source": [
    "print('\"Hello Python\"')"
   ]
  },
  {
   "cell_type": "raw",
   "metadata": {},
   "source": [
    "2.\tWrite a Python program to do arithmetical operations addition and division.?"
   ]
  },
  {
   "cell_type": "code",
   "execution_count": 3,
   "metadata": {},
   "outputs": [
    {
     "name": "stdout",
     "output_type": "stream",
     "text": [
      "1.2\n",
      "0\n",
      "We cannot divide a number with '0' python will give an error 'ZeroDivisionError'\n",
      "Enter any other number : 0\n",
      "We cannot divide a number with '0' python will give an error 'ZeroDivisionError'\n",
      "Enter any other number : 2.3\n",
      "Adddition :  3.5\n",
      "Division :  0.5217391304347826\n"
     ]
    }
   ],
   "source": [
    "a = float(input())\n",
    "b = float(input())\n",
    "while b == 0 :\n",
    "    print(\"We cannot divide a number with '0' python will give an error 'ZeroDivisionError'\")\n",
    "    b = float(input(\"Enter any other number : \"))\n",
    "print(\"Adddition : \", a+b)\n",
    "print(\"Division : \", a/b)"
   ]
  },
  {
   "cell_type": "raw",
   "metadata": {},
   "source": [
    "3.\tWrite a Python program to find the area of a triangle?"
   ]
  },
  {
   "cell_type": "code",
   "execution_count": 1,
   "metadata": {},
   "outputs": [
    {
     "name": "stdout",
     "output_type": "stream",
     "text": [
      "How do you want to calculate the traingles area 1 - with side lenghts and 2 - with the length and breadth enter the number.4\n",
      "Please enter the correct number:2\n",
      "Enter height :20\n",
      "Enter breadth :5\n",
      "Area of the triangle :  50.0\n"
     ]
    }
   ],
   "source": [
    "b = int(input(\"How do you want to calculate the traingles area 1 - with side lenghts and 2 - with the length and breadth enter the number.\"))\n",
    "while b not in (1,2) :\n",
    "    b = int(input(\"Please enter the correct number:\"))\n",
    "if b == 1:\n",
    "    x = float(input(\"Enter first side :\"))\n",
    "    y = float(input(\"Enter second side :\"))\n",
    "    z = float(input(\"Enter third side :\"))\n",
    "    s = (x+y+z)/2  \n",
    "    area = (s*(s-x)*(s-y)*(s-z)) ** 0.5  \n",
    "    print(\"Area of the triangle : \",area)\n",
    "elif b==2 :\n",
    "    h= float(input(\"Enter height :\"))\n",
    "    bd = float(input(\"Enter breadth :\"))\n",
    "    area = 0.5 * (h*bd)\n",
    "    print(\"Area of the triangle : \",area)"
   ]
  },
  {
   "cell_type": "raw",
   "metadata": {},
   "source": [
    "4.\tWrite a Python program to swap two variables?"
   ]
  },
  {
   "cell_type": "code",
   "execution_count": 2,
   "metadata": {},
   "outputs": [
    {
     "name": "stdout",
     "output_type": "stream",
     "text": [
      "Enter the value of first variable : 2\n",
      "Enter the value of first variable : 3\n",
      "a :  3 b :  2\n"
     ]
    }
   ],
   "source": [
    "a = input(\"Enter the value of first variable : \")\n",
    "b = input(\"Enter the value of first variable : \")\n",
    "temp = a\n",
    "a = b\n",
    "b = temp\n",
    "print(\"a : \",a,\"b : \",b )"
   ]
  },
  {
   "cell_type": "raw",
   "metadata": {},
   "source": [
    "5.\tWrite a Python program to generate a random number?"
   ]
  },
  {
   "cell_type": "code",
   "execution_count": 3,
   "metadata": {},
   "outputs": [
    {
     "name": "stdout",
     "output_type": "stream",
     "text": [
      "0.6722549940924379\n"
     ]
    }
   ],
   "source": [
    "import random \n",
    "n = random.random() \n",
    "print(\"Random number generated is \",n)"
   ]
  },
  {
   "cell_type": "code",
   "execution_count": null,
   "metadata": {},
   "outputs": [],
   "source": []
  }
 ],
 "metadata": {
  "kernelspec": {
   "display_name": "Python 3",
   "language": "python",
   "name": "python3"
  },
  "language_info": {
   "codemirror_mode": {
    "name": "ipython",
    "version": 3
   },
   "file_extension": ".py",
   "mimetype": "text/x-python",
   "name": "python",
   "nbconvert_exporter": "python",
   "pygments_lexer": "ipython3",
   "version": "3.8.5"
  }
 },
 "nbformat": 4,
 "nbformat_minor": 4
}
