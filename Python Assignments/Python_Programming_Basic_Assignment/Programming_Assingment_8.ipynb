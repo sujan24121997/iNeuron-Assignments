{
 "cells": [
  {
   "cell_type": "raw",
   "metadata": {},
   "source": [
    "1.\tWrite a Python Program to Add Two Matrices?"
   ]
  },
  {
   "cell_type": "code",
   "execution_count": 3,
   "metadata": {},
   "outputs": [
    {
     "name": "stdout",
     "output_type": "stream",
     "text": [
      "Enter the number of rows of the matrix : 2\n",
      "Enter the number of columns of the matrix : 3\n",
      "Enter the input for A[0][0] position :1\n",
      "Enter the input for A[0][1] position :sdf\n",
      "invalid literal for int() with base 10: 'sdf'\n",
      "Wrong number entered!!!\n",
      "Enter the number of rows of the matrix : 2\n",
      "Enter the number of columns of the matrix : 2\n",
      "Enter the input for A[0][0] position :1\n",
      "Enter the input for A[0][1] position :2\n",
      "Enter the input for A[1][0] position :1\n",
      "Enter the input for A[1][1] position :2\n",
      "Enter the input for B[0][0] position :3\n",
      "Enter the input for B[0][1] position :4\n",
      "Enter the input for B[1][0] position :3\n",
      "Enter the input for B[1][1] position :4\n",
      "A matrix is : \n",
      "1 2 \n",
      "1 2 \n",
      "B matrix is : \n",
      "3 4 \n",
      "3 4 \n",
      "Result matrix is : \n",
      "4 6 \n",
      "4 6 "
     ]
    }
   ],
   "source": [
    "while True:\n",
    "    try :\n",
    "        res = []\n",
    "        A = []\n",
    "        B = []\n",
    "        row = int(input(\"Enter the number of rows of the matrix : \"))\n",
    "        col = int(input(\"Enter the number of columns of the matrix : \"))\n",
    "        for i in range(row):\n",
    "            A.append([])\n",
    "            B.append([])\n",
    "            res.append([])\n",
    "        for i in range(row):\n",
    "            for j in range(col):\n",
    "                A[i].append(int(input(\"Enter the input for A[\"+str(i)+\"][\"+str(j)+\"] position :\")))\n",
    "                res[i].append(0)\n",
    "        for i in range(row):\n",
    "            for j in range(col):\n",
    "                B[i].append(int(input(\"Enter the input for B[\"+str(i)+\"][\"+str(j)+\"] position :\")))\n",
    "        break\n",
    "    except Exception as e:\n",
    "        print(e)\n",
    "        print(\"Wrong number entered!!!\")\n",
    "for i in range(row):\n",
    "    for j in range(col):\n",
    "        res[i][j] = A[i][j]+B[i][j]\n",
    "print(\"A matrix is :\" ,end = \" \")\n",
    "for i in range(row):\n",
    "    print()\n",
    "    for j in range(col):\n",
    "        print(A[i][j],end = \" \")\n",
    "print()\n",
    "print(\"B matrix is :\" ,end = \" \")\n",
    "for i in range(row):\n",
    "    print()\n",
    "    for j in range(col):\n",
    "        print(B[i][j],end = \" \")\n",
    "print()\n",
    "print(\"Result matrix is :\" ,end = \" \")\n",
    "for i in range(row):\n",
    "    print()\n",
    "    for j in range(col):\n",
    "        print(res[i][j],end = \" \")"
   ]
  },
  {
   "cell_type": "raw",
   "metadata": {},
   "source": [
    "2.\tWrite a Python Program to Multiply Two Matrices?"
   ]
  },
  {
   "cell_type": "code",
   "execution_count": 8,
   "metadata": {},
   "outputs": [
    {
     "name": "stdout",
     "output_type": "stream",
     "text": [
      "Enter the number of rows of the matrix A: 2\n",
      "Enter the number of columns of the matrix A: 3\n",
      "Enter the number of rows of the matrix B: 4\n",
      "Enter the number of columns of the matrix B: 2\n",
      "Enter how do you want to multipy \n",
      " type 1 for AxB \n",
      " type 2  for  BxA2\n",
      "Enter the input for A[0][0] position :1\n",
      "Enter the input for A[0][1] position :2\n",
      "Enter the input for A[0][2] position :3\n",
      "Enter the input for A[1][0] position :4\n",
      "Enter the input for A[1][1] position :5\n",
      "Enter the input for A[1][2] position :6\n",
      "Enter the input for B[0][0] position :7\n",
      "Enter the input for B[0][1] position :8\n",
      "Enter the input for B[1][0] position :9\n",
      "Enter the input for B[1][1] position :1\n",
      "Enter the input for B[2][0] position :2\n",
      "Enter the input for B[2][1] position :3\n",
      "Enter the input for B[3][0] position :4\n",
      "Enter the input for B[3][1] position :5\n",
      "A matrix is : \n",
      "1 2 3 \n",
      "4 5 6 \n",
      "B matrix is : \n",
      "7 8 \n",
      "9 1 \n",
      "2 3 \n",
      "4 5 \n",
      "Result matrix is : \n",
      "39 54 69 \n",
      "13 23 33 \n",
      "14 19 24 \n",
      "24 33 42 "
     ]
    }
   ],
   "source": [
    "while True:\n",
    "    try :\n",
    "        res = []\n",
    "        A = []\n",
    "        B = []\n",
    "        #Getting inputs of no. of rows and columns\n",
    "        \n",
    "        row_a = int(input(\"Enter the number of rows of the matrix A: \"))\n",
    "        col_a = int(input(\"Enter the number of columns of the matrix A: \"))\n",
    "        row_b = int(input(\"Enter the number of rows of the matrix B: \"))\n",
    "        col_b = int(input(\"Enter the number of columns of the matrix B: \"))\n",
    "        \n",
    "        #Getting inputs of which matrix to multiply with which\n",
    "        mode = int(input(\"Enter how do you want to multipy \\n type 1 for AxB \\n type 2  for  BxA\"))\n",
    "        if mode == 1:\n",
    "            if col_a != row_b:\n",
    "                raise Exception(\"Entered matrix dimensions are not correct\")\n",
    "        elif mode == 2:\n",
    "            if col_b != row_a:\n",
    "                raise Exception(\"Entered matrix dimensions are not correct\")\n",
    "        else:\n",
    "            raise Exception(\"Wrong mode of multipication has been entered\")\n",
    "        \n",
    "        # Entering data\n",
    "        \n",
    "        \n",
    "        for i in range(row_a):\n",
    "            A.append([])\n",
    "        for i in range(row_b):\n",
    "            B.append([])\n",
    "        if mode == 1:\n",
    "            for i in range(row_a):\n",
    "                res.append([])\n",
    "                for j in range(col_b):\n",
    "                    res[i].append(0)\n",
    "        else:\n",
    "            for i in range(row_b):\n",
    "                res.append([])\n",
    "                for j in range(col_a):\n",
    "                    res[i].append(0)\n",
    "        for i in range(row_a):\n",
    "            for j in range(col_a):\n",
    "                A[i].append(int(input(\"Enter the input for A[\"+str(i)+\"][\"+str(j)+\"] position :\")))\n",
    "        for i in range(row_b):\n",
    "            for j in range(col_b):\n",
    "                B[i].append(int(input(\"Enter the input for B[\"+str(i)+\"][\"+str(j)+\"] position :\")))\n",
    "        break\n",
    "    except Exception as e:\n",
    "        print(e)\n",
    "        print(\"Wrong number entered!!!\")\n",
    "# Calculate the multiplication\n",
    "\n",
    "if mode == 1:\n",
    "    for i in range(row_a):\n",
    "        for j in range(col_b):\n",
    "            for k in range(row_b):\n",
    "                res[i][j] += A[i][k] * B[k][j]\n",
    "else:\n",
    "    for i in range(row_b):\n",
    "        for j in range(col_a):\n",
    "            for k in range(row_a):\n",
    "                res[i][j] += B[i][k] * A[k][j]\n",
    "\n",
    "#Printing out the matrices\n",
    "\n",
    "print(\"A matrix is :\" ,end = \" \")\n",
    "for i in range(row_a):\n",
    "    print()\n",
    "    for j in range(col_a):\n",
    "        print(A[i][j],end = \" \")\n",
    "print()\n",
    "print(\"B matrix is :\" ,end = \" \")\n",
    "for i in range(row_b):\n",
    "    print()\n",
    "    for j in range(col_b):\n",
    "        print(B[i][j],end = \" \")\n",
    "print()\n",
    "print(\"Result matrix is :\" ,end = \" \")\n",
    "if mode == 1:\n",
    "    for i in range(row_a):\n",
    "        print()\n",
    "        for j in range(col_b):\n",
    "            print(res[i][j],end = \" \")\n",
    "else:\n",
    "    for i in range(row_b):\n",
    "        print()\n",
    "        for j in range(col_a):\n",
    "            print(res[i][j],end = \" \")"
   ]
  },
  {
   "cell_type": "raw",
   "metadata": {},
   "source": [
    "3.\tWrite a Python Program to Transpose a Matrix?"
   ]
  },
  {
   "cell_type": "code",
   "execution_count": 7,
   "metadata": {},
   "outputs": [
    {
     "name": "stdout",
     "output_type": "stream",
     "text": [
      "Enter the number of rows of the matrix : 2\n",
      "Enter the number of columns of the matrix : 3\n",
      "Enter the input for A[0][0] position :1\n",
      "Enter the input for A[0][1] position :2\n",
      "Enter the input for A[0][2] position :3\n",
      "Enter the input for A[1][0] position :4\n",
      "Enter the input for A[1][1] position :5\n",
      "Enter the input for A[1][2] position :6\n",
      "A matrix is : \n",
      "1 2 3 \n",
      "4 5 6 \n",
      "Result matrix is (i.e. Transpose of A) : \n",
      "1 4 \n",
      "2 5 \n",
      "3 6 "
     ]
    }
   ],
   "source": [
    "while True:\n",
    "    try :\n",
    "        res = []\n",
    "        A = []\n",
    "        row = int(input(\"Enter the number of rows of the matrix : \"))\n",
    "        col = int(input(\"Enter the number of columns of the matrix : \"))\n",
    "        for i in range(row):\n",
    "            A.append([])\n",
    "            for j in range(col):\n",
    "                A[i].append(int(input(\"Enter the input for A[\"+str(i)+\"][\"+str(j)+\"] position :\")))\n",
    "        for i in range(col):\n",
    "            res.append([])\n",
    "            for j in range(row):\n",
    "                res[i].append(0)\n",
    "        break\n",
    "    except Exception as e:\n",
    "        print(e)\n",
    "        print(\"Wrong number entered!!!\")\n",
    "for i in range(row):\n",
    "    for j in range(col):\n",
    "        res[j][i] = A[i][j]\n",
    "print(\"A matrix is :\" ,end = \" \")\n",
    "for i in range(row):\n",
    "    print()\n",
    "    for j in range(col):\n",
    "        print(A[i][j],end = \" \")\n",
    "print()\n",
    "print(\"Result matrix is (i.e. Transpose of A) :\" ,end = \" \")\n",
    "for i in range(col):\n",
    "    print()\n",
    "    for j in range(row):\n",
    "        print(res[i][j],end = \" \")"
   ]
  },
  {
   "cell_type": "raw",
   "metadata": {},
   "source": [
    "4.\tWrite a Python Program to Sort Words in Alphabetic Order?"
   ]
  },
  {
   "cell_type": "code",
   "execution_count": 25,
   "metadata": {},
   "outputs": [
    {
     "name": "stdout",
     "output_type": "stream",
     "text": [
      "Enter the sentence :hi this is sujan . how are you.   \n",
      "['are', 'hi', 'how', 'is', 'sujan', 'this', 'you']\n"
     ]
    }
   ],
   "source": [
    "while True:\n",
    "    try :\n",
    "        string = input(\"Enter the sentence :\")\n",
    "        break\n",
    "    except Exception as e:\n",
    "        print(e)\n",
    "        print(\"Wrong number entered!!!\")\n",
    "l = list(string.split(\" \"))\n",
    "le = len(l)-1\n",
    "while le >= 0:\n",
    "    if '.' in l[le]:\n",
    "        if '.' == l[le]:\n",
    "            l = l[:le] + l[le+1:]\n",
    "        else:\n",
    "            l[le] = l[le].replace(\".\",\"\") \n",
    "    if '' == l[le]:\n",
    "        l = l[:le] + l[le+1:]\n",
    "    le-=1\n",
    "print(sorted(l))"
   ]
  },
  {
   "cell_type": "raw",
   "metadata": {},
   "source": [
    "5.\tWrite a Python Program to Remove Punctuation From a String?"
   ]
  },
  {
   "cell_type": "code",
   "execution_count": 51,
   "metadata": {},
   "outputs": [
    {
     "name": "stdout",
     "output_type": "stream",
     "text": [
      "Enter the sentence :h#{}i this!#{ is s#{}ujan . how a#{}re y#{}ou.\n",
      "hi this is sujan  how are you\n"
     ]
    }
   ],
   "source": [
    "import string\n",
    "while True:\n",
    "    try :\n",
    "        inp = input(\"Enter the sentence :\")\n",
    "        break\n",
    "    except Exception as e:\n",
    "        print(e)\n",
    "        print(\"Wrong number entered!!!\")\n",
    "punctuations = list(string.punctuation) \n",
    "no_punct = \"\"\n",
    "for char_id in range(len(inp)):\n",
    "    if inp[char_id] not in punctuations:\n",
    "        no_punct = no_punct + inp[char_id]\n",
    "print(no_punct)"
   ]
  },
  {
   "cell_type": "code",
   "execution_count": null,
   "metadata": {},
   "outputs": [],
   "source": []
  }
 ],
 "metadata": {
  "kernelspec": {
   "display_name": "Python 3",
   "language": "python",
   "name": "python3"
  },
  "language_info": {
   "codemirror_mode": {
    "name": "ipython",
    "version": 3
   },
   "file_extension": ".py",
   "mimetype": "text/x-python",
   "name": "python",
   "nbconvert_exporter": "python",
   "pygments_lexer": "ipython3",
   "version": "3.8.5"
  }
 },
 "nbformat": 4,
 "nbformat_minor": 4
}
