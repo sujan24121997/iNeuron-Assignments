{
 "cells": [
  {
   "cell_type": "raw",
   "metadata": {},
   "source": [
    "1.\tWrite a Python program to convert kilometers to miles?"
   ]
  },
  {
   "cell_type": "code",
   "execution_count": 1,
   "metadata": {},
   "outputs": [
    {
     "name": "stdout",
     "output_type": "stream",
     "text": [
      "Enter the number of kilometers : 5\n",
      "5.0  kilomters is equal to  3.106855  miles\n"
     ]
    }
   ],
   "source": [
    "km = float(input(\"Enter the number of kilometers : \"))\n",
    "miles = km*0.621371\n",
    "print(km,\" kilomters is equal to \",miles,\" miles\")"
   ]
  },
  {
   "cell_type": "raw",
   "metadata": {},
   "source": [
    "2.\tWrite a Python program to convert Celsius to Fahrenheit?"
   ]
  },
  {
   "cell_type": "code",
   "execution_count": 3,
   "metadata": {},
   "outputs": [
    {
     "name": "stdout",
     "output_type": "stream",
     "text": [
      "Enter the celsius value : 36\n",
      "36.0 celsius is equal to  96.8  Fahrenheit\n"
     ]
    }
   ],
   "source": [
    "cel = float(input(\"Enter the celsius value : \"))\n",
    "far = (cel*(9/5)) +32\n",
    "print(cel,\"celsius is equal to \",far,\" Fahrenheit\")"
   ]
  },
  {
   "cell_type": "raw",
   "metadata": {},
   "source": [
    "3.\tWrite a Python program to display calendar?"
   ]
  },
  {
   "cell_type": "code",
   "execution_count": 12,
   "metadata": {},
   "outputs": [
    {
     "name": "stdout",
     "output_type": "stream",
     "text": [
      "Enter 1- to see the calender of a year and 2 - to see to a specific month of a specific year :3\n",
      "Entered a wrong number!!!\n",
      "Enter 1- to see the calender of a year and 2 - to see to a specific month of a specific year :2\n",
      "Enter the year : 1997\n",
      "Enter the months in numbers (1-12) : 15\n",
      "Entered a wrong number!!!\n",
      "Enter the months in numbers (1-12) : 12\n",
      "   December 1997\n",
      "Mo Tu We Th Fr Sa Su\n",
      " 1  2  3  4  5  6  7\n",
      " 8  9 10 11 12 13 14\n",
      "15 16 17 18 19 20 21\n",
      "22 23 24 25 26 27 28\n",
      "29 30 31\n",
      "\n"
     ]
    }
   ],
   "source": [
    "import calendar\n",
    "b = True\n",
    "inp = 0\n",
    "while True:\n",
    "    inp = int(input(\"Enter 1- to see the calender of a year and 2 - to see to a specific month of a specific year :\"))\n",
    "    if inp in (1,2) :\n",
    "        break\n",
    "    print(\"Entered a wrong number!!!\")\n",
    "if inp == 1:\n",
    "    year = int(input(\"Enter the year : \"))\n",
    "    print(calendar.calendar(year))\n",
    "if inp == 2:\n",
    "    year = int(input(\"Enter the year : \"))\n",
    "    while True:\n",
    "        month = int(input(\"Enter the months in numbers (1-12) : \"))\n",
    "        if month in (range(1,13)):\n",
    "            break\n",
    "        print(\"Entered a wrong number!!!\")\n",
    "    print(calendar.month(year,month))"
   ]
  },
  {
   "cell_type": "raw",
   "metadata": {},
   "source": [
    "4.\tWrite a Python program to solve quadratic equation?"
   ]
  },
  {
   "cell_type": "code",
   "execution_count": 15,
   "metadata": {},
   "outputs": [
    {
     "name": "stdout",
     "output_type": "stream",
     "text": [
      "Quadratic expression looks like ax2+bx+c\n",
      "Enter the value of a :3\n",
      "Enter the value of b :4\n",
      "Enter the value of c :5\n",
      "The two results for the quadratic equation are -0.67-1.11j and -0.67+1.11j\n"
     ]
    }
   ],
   "source": [
    "print(\"Quadratic expression looks like ax2+bx+c\")\n",
    "a = int(input(\"Enter the value of a :\"))\n",
    "b = int(input(\"Enter the value of b :\"))\n",
    "c = int(input(\"Enter the value of c :\"))\n",
    "sub = (b**2) - (4*a*c)\n",
    "res1 = (-b-(sub**0.5))/(2*a)\n",
    "res2 = (-b+(sub**0.5))/(2*a)\n",
    "print(\"The two results for the quadratic equation are {0:.2f} and {1:.2f}\".format(res1,res2))"
   ]
  },
  {
   "cell_type": "raw",
   "metadata": {},
   "source": [
    "5.\tWrite a Python program to swap two variables without temp variable?"
   ]
  },
  {
   "cell_type": "code",
   "execution_count": 18,
   "metadata": {},
   "outputs": [
    {
     "name": "stdout",
     "output_type": "stream",
     "text": [
      "Enter variable 'a':5\n",
      "Enter variable 'b':3\n",
      "Before swapping\n",
      " a : 5  b : 3\n",
      "after swapping\n",
      " a : 3  b : 5\n"
     ]
    }
   ],
   "source": [
    "a = int(input(\"Enter variable 'a':\"))\n",
    "b = int(input(\"Enter variable 'b':\"))\n",
    "print(\"Before swapping\")\n",
    "print(\" a :\",a,\" b :\",b)\n",
    "a = a+b\n",
    "b = a-b\n",
    "a = a-b\n",
    "print(\"after swapping\")\n",
    "print(\" a :\",a,\" b :\",b)"
   ]
  },
  {
   "cell_type": "code",
   "execution_count": null,
   "metadata": {},
   "outputs": [],
   "source": []
  }
 ],
 "metadata": {
  "kernelspec": {
   "display_name": "Python 3",
   "language": "python",
   "name": "python3"
  },
  "language_info": {
   "codemirror_mode": {
    "name": "ipython",
    "version": 3
   },
   "file_extension": ".py",
   "mimetype": "text/x-python",
   "name": "python",
   "nbconvert_exporter": "python",
   "pygments_lexer": "ipython3",
   "version": "3.8.5"
  }
 },
 "nbformat": 4,
 "nbformat_minor": 4
}
