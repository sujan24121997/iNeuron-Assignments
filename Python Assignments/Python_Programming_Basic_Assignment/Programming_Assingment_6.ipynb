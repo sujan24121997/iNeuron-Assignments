{
 "cells": [
  {
   "cell_type": "raw",
   "metadata": {},
   "source": [
    "1.\tWrite a Python Program to Display Fibonacci Sequence Using Recursion?"
   ]
  },
  {
   "cell_type": "code",
   "execution_count": 7,
   "metadata": {},
   "outputs": [
    {
     "name": "stdout",
     "output_type": "stream",
     "text": [
      "Enter the number : sdfasdf\n",
      "invalid literal for int() with base 10: 'sdfasdf'\n",
      "Wrong number entered!!!\n",
      "Enter the number : 8\n",
      "Fibonacci sequence :  0 1 1 2 3 5 8 13 "
     ]
    }
   ],
   "source": [
    "def get_fib(n):\n",
    "        if n <= 1:\n",
    "            return n\n",
    "        else:\n",
    "            return(get_fib(n-1) + get_fib(n-2))\n",
    "while True:\n",
    "    try :\n",
    "        inp = int(input(\"Enter the number : \"))\n",
    "        break\n",
    "    except Exception as e:\n",
    "        print(e)\n",
    "        print(\"Wrong number entered!!!\")\n",
    "print(\"Fibonacci sequence : \",end = ' ')\n",
    "for i in range(inp):\n",
    "       print(get_fib(i),end = ' ')"
   ]
  },
  {
   "cell_type": "raw",
   "metadata": {},
   "source": [
    "2.\tWrite a Python Program to Find Factorial of Number Using Recursion?"
   ]
  },
  {
   "cell_type": "code",
   "execution_count": 4,
   "metadata": {},
   "outputs": [
    {
     "name": "stdout",
     "output_type": "stream",
     "text": [
      "Enter the number : asdfdf\n",
      "invalid literal for int() with base 10: 'asdfdf'\n",
      "Wrong number entered!!!\n",
      "Enter the number : 5\n",
      "Factorial of  number  5  is  120\n"
     ]
    }
   ],
   "source": [
    "def fact(n):\n",
    "    if n == 1:\n",
    "        return 1\n",
    "    else:\n",
    "        return n*fact(n-1)\n",
    "while True:\n",
    "    try :\n",
    "        inp = int(input(\"Enter the number : \"))\n",
    "        break\n",
    "    except Exception as e:\n",
    "        print(e)\n",
    "        print(\"Wrong number entered!!!\")\n",
    "        continue\n",
    "res = fact(inp)\n",
    "print(\"Factorial of  number \",inp,\" is \",res)"
   ]
  },
  {
   "cell_type": "raw",
   "metadata": {},
   "source": [
    "3.\tWrite a Python Program to calculate your Body Mass Index?"
   ]
  },
  {
   "cell_type": "code",
   "execution_count": 12,
   "metadata": {},
   "outputs": [
    {
     "name": "stdout",
     "output_type": "stream",
     "text": [
      "Input your height in Feet: adfafd\n",
      "could not convert string to float: 'adfafd'\n",
      "Wrong number entered!!!\n",
      "Input your height in Feet: 5.4\n",
      "Input your weight in Kilogram: 75\n",
      "Your body mass index(BMI) is:  27.68\n",
      "You are Overweight. Hey have less fat content food. \n"
     ]
    }
   ],
   "source": [
    "while True:\n",
    "    try :\n",
    "        height = float(input(\"Input your height in Feet: \"))\n",
    "        weight = float(input(\"Input your weight in Kilogram: \"))\n",
    "        break\n",
    "    except Exception as e:\n",
    "        print(e)\n",
    "        print(\"Wrong number entered!!!\")\n",
    "        continue\n",
    "height_in_meters = 0.3048*height \n",
    "res = round(weight / (height_in_meters * height_in_meters), 2)\n",
    "print(\"Your body mass index(BMI) is: \", res)\n",
    "if res < 18.50:\n",
    "    print(\"You are under weight. Get more fat in you diet.\")\n",
    "elif res>=18.50 and res<=24.90:\n",
    "    print(\"You are normal. Great maintain your BMI like this\")\n",
    "elif res>=25.00 and res<=29.90:\n",
    "    print(\"You are Overweight. Hey have less fat content food. \")\n",
    "elif res>=30.0:\n",
    "    print(\"You are Obese. You are in some serious issue follow some diet plan.\")"
   ]
  },
  {
   "cell_type": "raw",
   "metadata": {},
   "source": [
    "4.\tWrite a Python Program to calculate the natural logarithm of any number?"
   ]
  },
  {
   "cell_type": "code",
   "execution_count": 16,
   "metadata": {},
   "outputs": [
    {
     "name": "stdout",
     "output_type": "stream",
     "text": [
      "Enter the number : asdf\n",
      "invalid literal for int() with base 10: 'asdf'\n",
      "Wrong number entered!!!\n",
      "Enter the number : 6\n",
      "Natural logarithm of number  6  is :  1.791759469228055\n"
     ]
    }
   ],
   "source": [
    "import math\n",
    "while True:\n",
    "    try :\n",
    "        inp = int(input(\"Enter the number : \"))\n",
    "        break\n",
    "    except Exception as e:\n",
    "        print(e)\n",
    "        print(\"Wrong number entered!!!\")\n",
    "        continue\n",
    "print(\"Natural logarithm of number \",inp,\" is : \",math.log(inp))  "
   ]
  },
  {
   "cell_type": "raw",
   "metadata": {},
   "source": [
    "5.\tWrite a Python Program for cube sum of first n natural numbers?"
   ]
  },
  {
   "cell_type": "code",
   "execution_count": 18,
   "metadata": {},
   "outputs": [
    {
     "name": "stdout",
     "output_type": "stream",
     "text": [
      "Enter the number : afsdfas\n",
      "invalid literal for int() with base 10: 'afsdfas'\n",
      "Wrong number entered!!!\n",
      "Enter the number : -2\n",
      "Entered number is not a natural number.\n",
      "Wrong number entered!!!\n",
      "Enter the number : 4\n",
      "Cube sum of first   4  natural numbers is :  100\n"
     ]
    }
   ],
   "source": [
    "while True:\n",
    "    try :\n",
    "        inp = int(input(\"Enter the number : \"))\n",
    "        if inp <=0:\n",
    "            raise Exception(\"Entered number is not a natural number.\")\n",
    "        break\n",
    "    except Exception as e:\n",
    "        print(e)\n",
    "        print(\"Wrong number entered!!!\")\n",
    "        continue\n",
    "print(\"Cube sum of first  \",inp,\" natural numbers is : \",int((inp*(inp+1)/2)**2))  "
   ]
  },
  {
   "cell_type": "code",
   "execution_count": null,
   "metadata": {},
   "outputs": [],
   "source": []
  }
 ],
 "metadata": {
  "kernelspec": {
   "display_name": "Python 3",
   "language": "python",
   "name": "python3"
  },
  "language_info": {
   "codemirror_mode": {
    "name": "ipython",
    "version": 3
   },
   "file_extension": ".py",
   "mimetype": "text/x-python",
   "name": "python",
   "nbconvert_exporter": "python",
   "pygments_lexer": "ipython3",
   "version": "3.8.5"
  }
 },
 "nbformat": 4,
 "nbformat_minor": 4
}
