{
 "cells": [
  {
   "cell_type": "raw",
   "metadata": {},
   "source": [
    "1.\tWrite a Python program to find sum of elements in list?"
   ]
  },
  {
   "cell_type": "code",
   "execution_count": 2,
   "metadata": {},
   "outputs": [
    {
     "name": "stdout",
     "output_type": "stream",
     "text": [
      "Enter the no. of elements :asdfa\n",
      "invalid literal for int() with base 10: 'asdfa'\n",
      "Wrong number entered!!!\n",
      "Enter the no. of elements :0\n",
      "\n",
      "Wrong number entered!!!\n",
      "Enter the no. of elements :6\n",
      "Enter the 1 number: 4\n",
      "Enter the 2 number: 56\n",
      "Enter the 3 number: 3\n",
      "Enter the 4 number: 12\n",
      "Enter the 5 number: 78\n",
      "Enter the 6 number: 34\n",
      "sum of elements in the list is : 187\n"
     ]
    }
   ],
   "source": [
    "while True:\n",
    "    try :\n",
    "        l=[]\n",
    "        inp = int(input(\"Enter the no. of elements :\"))\n",
    "        if inp < 1:\n",
    "            raise Exception()\n",
    "        for i in range(inp):\n",
    "            l.append(int(input(\"Enter the \"+str(i+1)+\" number: \")))\n",
    "        break\n",
    "    except Exception as e:\n",
    "        print(e)\n",
    "        print(\"Wrong number entered!!!\")\n",
    "print(\"sum of elements in the list is :\",sum(l))"
   ]
  },
  {
   "cell_type": "raw",
   "metadata": {},
   "source": [
    "2.\tWrite a Python program to  Multiply all numbers in the list?"
   ]
  },
  {
   "cell_type": "code",
   "execution_count": 4,
   "metadata": {},
   "outputs": [
    {
     "name": "stdout",
     "output_type": "stream",
     "text": [
      "Enter the no. of elements :dfdaf\n",
      "invalid literal for int() with base 10: 'dfdaf'\n",
      "Wrong number entered!!!\n",
      "Enter the no. of elements :0\n",
      "\n",
      "Wrong number entered!!!\n",
      "Enter the no. of elements :3\n",
      "Enter the 1 number: 2\n",
      "Enter the 2 number: 3\n",
      "Enter the 3 number: 6\n",
      "value of multipling all numbers in the list : 36\n"
     ]
    }
   ],
   "source": [
    "while True:\n",
    "    try :\n",
    "        l=[]\n",
    "        res = 1\n",
    "        inp = int(input(\"Enter the no. of elements :\"))\n",
    "        if inp < 1:\n",
    "            raise Exception()\n",
    "        for i in range(inp):\n",
    "            l.append(int(input(\"Enter the \"+str(i+1)+\" number: \")))\n",
    "            res *= l[i]\n",
    "        break\n",
    "    except Exception as e:\n",
    "        print(e)\n",
    "        print(\"Wrong number entered!!!\")\n",
    "print(\"value of multipling all numbers in the list :\",res)"
   ]
  },
  {
   "cell_type": "raw",
   "metadata": {},
   "source": [
    "3.\tWrite a Python program to find smallest number in a list?"
   ]
  },
  {
   "cell_type": "code",
   "execution_count": 5,
   "metadata": {},
   "outputs": [
    {
     "name": "stdout",
     "output_type": "stream",
     "text": [
      "Enter the no. of elements :sdfadfa\n",
      "invalid literal for int() with base 10: 'sdfadfa'\n",
      "Wrong number entered!!!\n",
      "Enter the no. of elements :0\n",
      "\n",
      "Wrong number entered!!!\n",
      "Enter the no. of elements :5\n",
      "Enter the 1 number: 34\n",
      "Enter the 2 number: 12\n",
      "Enter the 3 number: 21\n",
      "Enter the 4 number: 34\n",
      "Enter the 5 number: 6\n",
      "Minimum value in the list is : 6\n"
     ]
    }
   ],
   "source": [
    "while True:\n",
    "    try :\n",
    "        l=[]\n",
    "        inp = int(input(\"Enter the no. of elements :\"))\n",
    "        if inp < 1:\n",
    "            raise Exception()\n",
    "        for i in range(inp):\n",
    "            l.append(int(input(\"Enter the \"+str(i+1)+\" number: \")))\n",
    "        break\n",
    "    except Exception as e:\n",
    "        print(e)\n",
    "        print(\"Wrong number entered!!!\")\n",
    "print(\"Minimum value in the list is :\",min(l))"
   ]
  },
  {
   "cell_type": "raw",
   "metadata": {},
   "source": [
    "4.\tWrite a Python program to find largest number in a list?"
   ]
  },
  {
   "cell_type": "code",
   "execution_count": 6,
   "metadata": {},
   "outputs": [
    {
     "name": "stdout",
     "output_type": "stream",
     "text": [
      "Enter the no. of elements :afadf\n",
      "invalid literal for int() with base 10: 'afadf'\n",
      "Wrong number entered!!!\n",
      "Enter the no. of elements :6\n",
      "Enter the 1 number: 1\n",
      "Enter the 2 number: 2\n",
      "Enter the 3 number: 3\n",
      "Enter the 4 number: 23\n",
      "Enter the 5 number: 34\n",
      "Enter the 6 number: 12\n",
      "Largest value in the list is : 34\n"
     ]
    }
   ],
   "source": [
    "while True:\n",
    "    try :\n",
    "        l=[]\n",
    "        inp = int(input(\"Enter the no. of elements :\"))\n",
    "        if inp < 1:\n",
    "            raise Exception()\n",
    "        for i in range(inp):\n",
    "            l.append(int(input(\"Enter the \"+str(i+1)+\" number: \")))\n",
    "        break\n",
    "    except Exception as e:\n",
    "        print(e)\n",
    "        print(\"Wrong number entered!!!\")\n",
    "print(\"Largest value in the list is :\",max(l))"
   ]
  },
  {
   "cell_type": "raw",
   "metadata": {},
   "source": [
    "5.\tWrite a Python program to find second largest number in a list?"
   ]
  },
  {
   "cell_type": "code",
   "execution_count": 28,
   "metadata": {},
   "outputs": [
    {
     "name": "stdout",
     "output_type": "stream",
     "text": [
      "Enter the no. of elements :7\n",
      "Enter the 1 number: -400\n",
      "Enter the 2 number: 234\n",
      "Enter the 3 number: 234\n",
      "Enter the 4 number: 32\n",
      "Enter the 5 number: 32\n",
      "Enter the 6 number: 12\n",
      "Enter the 7 number: 21\n",
      "Second largest value in the list is : 32\n"
     ]
    }
   ],
   "source": [
    "while True:\n",
    "    try :\n",
    "        l=[]\n",
    "        inp = int(input(\"Enter the no. of elements :\"))\n",
    "        if inp < 1:\n",
    "            raise Exception()\n",
    "        for i in range(inp):\n",
    "            l.append(int(input(\"Enter the \"+str(i+1)+\" number: \")))\n",
    "        break\n",
    "    except Exception as e:\n",
    "        print(e)\n",
    "        print(\"Wrong number entered!!!\")\n",
    "max_num = max(l)\n",
    "temp_list = l\n",
    "i= len(l) - 1\n",
    "while i >= 0:\n",
    "    if temp_list[i] == max_num:\n",
    "        temp_list.pop(i)\n",
    "    i-=1\n",
    "print(\"Second largest value in the list is :\",max(temp_list))"
   ]
  },
  {
   "cell_type": "raw",
   "metadata": {},
   "source": [
    "6.\tWrite a Python program to find N largest elements from a list?"
   ]
  },
  {
   "cell_type": "code",
   "execution_count": 20,
   "metadata": {},
   "outputs": [
    {
     "name": "stdout",
     "output_type": "stream",
     "text": [
      "Enter the no. of elements :10\n",
      "Enter the 1 number: -70\n",
      "Enter the 2 number: -70\n",
      "Enter the 3 number: 70\n",
      "Enter the 4 number: 70\n",
      "Enter the 5 number: 45\n",
      "Enter the 6 number: 34\n",
      "Enter the 7 number: 12\n",
      "Enter the 8 number: 21\n",
      "Enter the 9 number: -400\n",
      "Enter the 10 number: -700\n",
      "Enter the no. max values you needed :6\n",
      "6 largest values in the list is : [34, 70, 12, 45, 21, -70]\n"
     ]
    }
   ],
   "source": [
    "while True:\n",
    "    try :\n",
    "        l=[]\n",
    "        inp = int(input(\"Enter the no. of elements :\"))\n",
    "        if inp < 1:\n",
    "            raise Exception()\n",
    "        for i in range(inp):\n",
    "            l.append(int(input(\"Enter the \"+str(i+1)+\" number: \")))\n",
    "        n = int(input(\"Enter the no. max values you needed :\"))\n",
    "        if n > inp:\n",
    "            raise Exception()\n",
    "        break\n",
    "    except Exception as e:\n",
    "        print(e)\n",
    "        print(\"Wrong number entered!!!\")\n",
    "if n != len(set(l)):\n",
    "    temp_list = l \n",
    "    max_val_list = [max(l)]\n",
    "    for j in range(n-1):\n",
    "        max_num = max(temp_list)\n",
    "        i= len(temp_list) - 1\n",
    "        while i >= 0:\n",
    "            if temp_list[i] == max_num:\n",
    "                temp_list.pop(i)\n",
    "            i-=1\n",
    "        max_val_list.append(max(temp_list))\n",
    "    print(str(n)+\" largest values in the list is :\",list(set(max_val_list)))\n",
    "else:\n",
    "    print(str(n)+\" largest values in the list is :\",list(set(l)))"
   ]
  },
  {
   "cell_type": "raw",
   "metadata": {},
   "source": [
    "7.\tWrite a Python program to print even numbers in a list?"
   ]
  },
  {
   "cell_type": "code",
   "execution_count": 21,
   "metadata": {},
   "outputs": [
    {
     "name": "stdout",
     "output_type": "stream",
     "text": [
      "Enter the no. of elements :10\n",
      "Enter the 1 number: -400\n",
      "Enter the 2 number: -7900\n",
      "Enter the 3 number: 45\n",
      "Enter the 4 number: 34\n",
      "Enter the 5 number: 12\n",
      "Enter the 6 number: 21\n",
      "Enter the 7 number: 56\n",
      "Enter the 8 number: -75\n",
      "Enter the 9 number: -67\n",
      "Enter the 10 number: 3452\n",
      "Even numbers in the list is : [-400, -7900, 34, 12, 56, 3452]\n"
     ]
    }
   ],
   "source": [
    "while True:\n",
    "    try :\n",
    "        l=[]\n",
    "        eve = []\n",
    "        inp = int(input(\"Enter the no. of elements :\"))\n",
    "        if inp < 1:\n",
    "            raise Exception()\n",
    "        for i in range(inp):\n",
    "            l.append(int(input(\"Enter the \"+str(i+1)+\" number: \")))\n",
    "            if l[i] %2 == 0:\n",
    "                eve.append(l[i])\n",
    "        break\n",
    "    except Exception as e:\n",
    "        print(e)\n",
    "        print(\"Wrong number entered!!!\")\n",
    "print(\"Even numbers in the list is :\",eve)"
   ]
  },
  {
   "cell_type": "raw",
   "metadata": {},
   "source": [
    "8.\tWrite a Python program to print odd numbers in a List?"
   ]
  },
  {
   "cell_type": "code",
   "execution_count": 22,
   "metadata": {},
   "outputs": [
    {
     "name": "stdout",
     "output_type": "stream",
     "text": [
      "Enter the no. of elements :10\n",
      "Enter the 1 number: -400\n",
      "Enter the 2 number: -7900\n",
      "Enter the 3 number: 45\n",
      "Enter the 4 number: 34\n",
      "Enter the 5 number: 12\n",
      "Enter the 6 number: 21\n",
      "Enter the 7 number: 56\n",
      "Enter the 8 number: -75\n",
      "Enter the 9 number: -67\n",
      "Enter the 10 number: 3452\n",
      "Odd numbers in the list is : [45, 21, -75, -67]\n"
     ]
    }
   ],
   "source": [
    "while True:\n",
    "    try :\n",
    "        l=[]\n",
    "        odd = []\n",
    "        inp = int(input(\"Enter the no. of elements :\"))\n",
    "        if inp < 1:\n",
    "            raise Exception()\n",
    "        for i in range(inp):\n",
    "            l.append(int(input(\"Enter the \"+str(i+1)+\" number: \")))\n",
    "            if l[i] %2 != 0:\n",
    "                odd.append(l[i])\n",
    "        break\n",
    "    except Exception as e:\n",
    "        print(e)\n",
    "        print(\"Wrong number entered!!!\")\n",
    "print(\"Odd numbers in the list is :\",odd)"
   ]
  },
  {
   "cell_type": "raw",
   "metadata": {},
   "source": [
    "9.\tWrite a Python program to Remove empty List from List?"
   ]
  },
  {
   "cell_type": "code",
   "execution_count": 21,
   "metadata": {},
   "outputs": [
    {
     "name": "stdout",
     "output_type": "stream",
     "text": [
      "Enter the no. of elements :5\n",
      "Do you want to enter a list at 1 position 1- yes or 2-no:1\n",
      "Enter the no. of elements in sub list:0\n",
      "Do you want to enter a list at 2 position 1- yes or 2-no:2\n",
      "Enter the 2 element: sdafasdf\n",
      "Do you want to enter a list at 3 position 1- yes or 2-no:1\n",
      "Enter the no. of elements in sub list:2\n",
      "Enter the 1 element: fsdfasdfas\n",
      "Enter the 2 element: 07\n",
      "Do you want to enter a list at 4 position 1- yes or 2-no:2\n",
      "Enter the 4 element: 2\n",
      "Do you want to enter a list at 5 position 1- yes or 2-no:1\n",
      "Enter the no. of elements in sub list:0\n",
      "List before removing empty lists is  [[], 'sdafasdf', ['fsdfasdfas', '07'], '2', []]\n",
      "List after removing the empty lists is  ['sdafasdf', ['fsdfasdfas', '07'], '2']\n"
     ]
    }
   ],
   "source": [
    "while True:\n",
    "    try :\n",
    "        l=[]\n",
    "        inp = int(input(\"Enter the no. of elements :\"))\n",
    "        if inp < 1:\n",
    "            raise Exception()\n",
    "        for i in range(inp):\n",
    "            check_if_list = int(input(\"Do you want to enter a list at \"+str(i+1)+\" position 1- yes or 2-no:\"))\n",
    "            if check_if_list not in (1,2):\n",
    "                raise Exception()\n",
    "            if check_if_list == 1:\n",
    "                sub_l = []\n",
    "                sub_inp = int(input(\"Enter the no. of elements in sub list:\"))\n",
    "                if sub_inp < 0 :\n",
    "                      raise Exception() \n",
    "                if sub_inp == 0:\n",
    "                      pass\n",
    "                for j in range(sub_inp):\n",
    "                      sub_l.append(input(\"Enter the \"+str(j+1)+\" element: \"))\n",
    "                l.append(sub_l)\n",
    "            else:\n",
    "                l.append(input(\"Enter the \"+str(i+1)+\" element: \"))\n",
    "        break\n",
    "    except Exception as e:\n",
    "        print(e)\n",
    "        print(\"Wrong number entered!!!\")\n",
    "print(\"List before removing empty lists is \",l)\n",
    "j = len(l)-1\n",
    "while j >= 0:\n",
    "    if l[j] == []:\n",
    "        l.pop(j)\n",
    "    j-=1\n",
    "print(\"List after removing the empty lists is \",l)"
   ]
  },
  {
   "cell_type": "raw",
   "metadata": {},
   "source": [
    "10.\tWrite a Python program to Cloning or Copying a list?"
   ]
  },
  {
   "cell_type": "code",
   "execution_count": 24,
   "metadata": {},
   "outputs": [
    {
     "name": "stdout",
     "output_type": "stream",
     "text": [
      "Enter the no. of elements :dfadfaf\n",
      "invalid literal for int() with base 10: 'dfadfaf'\n",
      "Wrong value entered!!!\n",
      "Enter the no. of elements :6\n",
      "Enter the 1 values: erf\n",
      "Enter the 2 values: 23\n",
      "Enter the 3 values: 2\n",
      "Enter the 4 values: \n",
      "Enter the 5 values: 32\n",
      "Enter the 6 values: rwesfsdf\n",
      "Original list is  ['erf', '23', '2', '', '32', 'rwesfsdf']\n",
      "Copied list is  ['erf', '23', '2', '', '32', 'rwesfsdf']\n"
     ]
    }
   ],
   "source": [
    "while True:\n",
    "    try :\n",
    "        l=[]\n",
    "        inp = int(input(\"Enter the no. of elements :\"))\n",
    "        if inp < 1:\n",
    "            raise Exception()\n",
    "        for i in range(inp):\n",
    "            l.append(input(\"Enter the \"+str(i+1)+\" values: \"))\n",
    "        break\n",
    "    except Exception as e:\n",
    "        print(e)\n",
    "        print(\"Wrong value entered!!!\")\n",
    "copied_list = l.copy()\n",
    "print(\"Original list is \",l)\n",
    "print(\"Copied list is \",copied_list)"
   ]
  },
  {
   "cell_type": "raw",
   "metadata": {},
   "source": [
    "11.\tWrite a Python program to Count occurrences of an element in a list?"
   ]
  },
  {
   "cell_type": "code",
   "execution_count": 26,
   "metadata": {},
   "outputs": [
    {
     "name": "stdout",
     "output_type": "stream",
     "text": [
      "Enter the no. of elements :adfad\n",
      "invalid literal for int() with base 10: 'adfad'\n",
      "Wrong value entered!!!\n",
      "Enter the no. of elements :adfa\n",
      "invalid literal for int() with base 10: 'adfa'\n",
      "Wrong value entered!!!\n",
      "Enter the no. of elements :3\n",
      "Enter the 1 values: 343\n",
      "Enter the 2 values: 343\n",
      "Enter the 3 values: dfgs\n",
      "Enter element to be searched :343\n",
      "The list is ['343', '343', 'dfgs']\n",
      "Element was found the list is  2  times\n"
     ]
    }
   ],
   "source": [
    "while True:\n",
    "    try :\n",
    "        l=[]\n",
    "        inp = int(input(\"Enter the no. of elements :\"))\n",
    "        if inp < 1:\n",
    "            raise Exception()\n",
    "        for i in range(inp):\n",
    "            l.append(input(\"Enter the \"+str(i+1)+\" values: \"))\n",
    "        search_ele = input(\"Enter element to be searched :\")\n",
    "        break\n",
    "    except Exception as e:\n",
    "        print(e)\n",
    "        print(\"Wrong value entered!!!\")\n",
    "c=0\n",
    "for i in l:\n",
    "    if i == search_ele:\n",
    "        c+=1\n",
    "print(\"The list is\",l)\n",
    "print(\"Element was found the list is \",c,\" times\")"
   ]
  },
  {
   "cell_type": "code",
   "execution_count": null,
   "metadata": {},
   "outputs": [],
   "source": []
  }
 ],
 "metadata": {
  "kernelspec": {
   "display_name": "Python 3",
   "language": "python",
   "name": "python3"
  },
  "language_info": {
   "codemirror_mode": {
    "name": "ipython",
    "version": 3
   },
   "file_extension": ".py",
   "mimetype": "text/x-python",
   "name": "python",
   "nbconvert_exporter": "python",
   "pygments_lexer": "ipython3",
   "version": "3.8.5"
  }
 },
 "nbformat": 4,
 "nbformat_minor": 4
}
